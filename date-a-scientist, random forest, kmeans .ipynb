{
 "cells": [
  {
   "cell_type": "code",
   "execution_count": 19,
   "metadata": {},
   "outputs": [],
   "source": [
    "import pandas as pd\n",
    "import numpy as np"
   ]
  },
  {
   "cell_type": "code",
   "execution_count": 20,
   "metadata": {},
   "outputs": [
    {
     "name": "stderr",
     "output_type": "stream",
     "text": [
      "C:\\Users\\jenni\\anaconda3\\lib\\site-packages\\IPython\\core\\interactiveshell.py:3146: DtypeWarning: Columns (0,17) have mixed types.Specify dtype option on import or set low_memory=False.\n",
      "  has_raised = await self.run_ast_nodes(code_ast.body, cell_name,\n"
     ]
    }
   ],
   "source": [
    "#Import OK Cupid Profiles\n",
    "df = pd.read_csv(\"profiles.csv\")"
   ]
  },
  {
   "cell_type": "code",
   "execution_count": 21,
   "metadata": {},
   "outputs": [
    {
     "name": "stdout",
     "output_type": "stream",
     "text": [
      "  age       body_type               diet    drinks      drugs  \\\n",
      "0  22  a little extra  strictly anything  socially      never   \n",
      "1  35         average       mostly other     often  sometimes   \n",
      "2  38            thin           anything  socially        NaN   \n",
      "3  23            thin         vegetarian  socially        NaN   \n",
      "4  29        athletic                NaN  socially      never   \n",
      "\n",
      "                           education  \\\n",
      "0      working on college/university   \n",
      "1              working on space camp   \n",
      "2     graduated from masters program   \n",
      "3      working on college/university   \n",
      "4  graduated from college/university   \n",
      "\n",
      "                                              essay0  \\\n",
      "0  about me:<br />\\n<br />\\ni would love to think...   \n",
      "1  i am a chef: this is what that means.<br />\\n1...   \n",
      "2  i'm not ashamed of much, but writing public te...   \n",
      "3          i work in a library and go to school. . .   \n",
      "4  hey how's it going? currently vague on the pro...   \n",
      "\n",
      "                                              essay1  \\\n",
      "0  currently working as an international agent fo...   \n",
      "1  dedicating everyday to being an unbelievable b...   \n",
      "2  i make nerdy software for musicians, artists, ...   \n",
      "3          reading things written by old dead people   \n",
      "4                         work work work work + play   \n",
      "\n",
      "                                              essay2  \\\n",
      "0  making people laugh.<br />\\nranting about a go...   \n",
      "1  being silly. having ridiculous amonts of fun w...   \n",
      "2  improvising in different contexts. alternating...   \n",
      "3  playing synthesizers and organizing books acco...   \n",
      "4  creating imagery to look at:<br />\\nhttp://bag...   \n",
      "\n",
      "                                              essay3  ...  \\\n",
      "0  the way i look. i am a six foot half asian, ha...  ...   \n",
      "1                                                NaN  ...   \n",
      "2  my large jaw and large glasses are the physica...  ...   \n",
      "3                  socially awkward but i do my best  ...   \n",
      "4            i smile a lot and my inquisitive nature  ...   \n",
      "\n",
      "                          location  \\\n",
      "0  south san francisco, california   \n",
      "1              oakland, california   \n",
      "2        san francisco, california   \n",
      "3             berkeley, california   \n",
      "4        san francisco, california   \n",
      "\n",
      "                                      offspring orientation  \\\n",
      "0  doesn&rsquo;t have kids, but might want them    straight   \n",
      "1  doesn&rsquo;t have kids, but might want them    straight   \n",
      "2                                             0    straight   \n",
      "3                       doesn&rsquo;t want kids    straight   \n",
      "4                                             0    straight   \n",
      "\n",
      "                        pets                                  religion sex  \\\n",
      "0  likes dogs and likes cats     agnosticism and very serious about it   m   \n",
      "1  likes dogs and likes cats  agnosticism but not too serious about it   m   \n",
      "2                   has cats                                       NaN   m   \n",
      "3                 likes cats                                       NaN   m   \n",
      "4  likes dogs and likes cats                                       NaN   m   \n",
      "\n",
      "                                 sign     smokes  \\\n",
      "0                              gemini  sometimes   \n",
      "1                              cancer         no   \n",
      "2  pisces but it doesn&rsquo;t matter         no   \n",
      "3                              pisces         no   \n",
      "4                            aquarius         no   \n",
      "\n",
      "                                              speaks     status  \n",
      "0                                            english     single  \n",
      "1  english (fluently), spanish (poorly), french (...     single  \n",
      "2                               english, french, c++  available  \n",
      "3                           english, german (poorly)     single  \n",
      "4                                            english     single  \n",
      "\n",
      "[5 rows x 31 columns]\n"
     ]
    }
   ],
   "source": [
    "#Look at Data\n",
    "print(df.head())"
   ]
  },
  {
   "cell_type": "code",
   "execution_count": 22,
   "metadata": {},
   "outputs": [],
   "source": [
    "#Drop NA lines\n",
    "new_df = df.dropna()"
   ]
  },
  {
   "cell_type": "code",
   "execution_count": 23,
   "metadata": {},
   "outputs": [
    {
     "name": "stdout",
     "output_type": "stream",
     "text": [
      "Index(['age', 'body_type', 'diet', 'drinks', 'drugs', 'education', 'essay0',\n",
      "       'essay1', 'essay2', 'essay3', 'essay4', 'essay5', 'essay6', 'essay7',\n",
      "       'essay8', 'essay9', 'ethnicity', 'height', 'income', 'job',\n",
      "       'last_online', 'location', 'offspring', 'orientation', 'pets',\n",
      "       'religion', 'sex', 'sign', 'smokes', 'speaks', 'status'],\n",
      "      dtype='object')\n",
      "60555\n"
     ]
    }
   ],
   "source": [
    "print(new_df.columns)\n",
    "print(len(df))\n"
   ]
  },
  {
   "cell_type": "code",
   "execution_count": 24,
   "metadata": {},
   "outputs": [
    {
     "name": "stdout",
     "output_type": "stream",
     "text": [
      "single            5418\n",
      "available          202\n",
      "seeing someone     194\n",
      "married             30\n",
      "Name: status, dtype: int64\n"
     ]
    }
   ],
   "source": [
    "#Look at status and other potential features\n",
    "print(new_df[\"status\"].value_counts())"
   ]
  },
  {
   "cell_type": "code",
   "execution_count": 25,
   "metadata": {},
   "outputs": [
    {
     "data": {
      "text/plain": [
       "<AxesSubplot:>"
      ]
     },
     "execution_count": 25,
     "metadata": {},
     "output_type": "execute_result"
    },
    {
     "data": {
      "image/png": "[encoded data removed]",
      "text/plain": [
       "<Figure size 432x288 with 1 Axes>"
      ]
     },
     "metadata": {
      "needs_background": "light"
     },
     "output_type": "display_data"
    }
   ],
   "source": [
    "new_df[\"status\"].hist()"
   ]
  },
  {
   "cell_type": "code",
   "execution_count": 26,
   "metadata": {},
   "outputs": [
    {
     "name": "stdout",
     "output_type": "stream",
     "text": [
      "m    3425\n",
      "f    2419\n",
      "Name: sex, dtype: int64\n"
     ]
    }
   ],
   "source": [
    "print(new_df[\"sex\"].value_counts())"
   ]
  },
  {
   "cell_type": "code",
   "execution_count": 27,
   "metadata": {},
   "outputs": [
    {
     "name": "stdout",
     "output_type": "stream",
     "text": [
      "never        4493\n",
      "sometimes    1268\n",
      "often          83\n",
      "Name: drugs, dtype: int64\n"
     ]
    }
   ],
   "source": [
    "print(new_df[\"drugs\"].value_counts())"
   ]
  },
  {
   "cell_type": "code",
   "execution_count": 28,
   "metadata": {},
   "outputs": [
    {
     "name": "stdout",
     "output_type": "stream",
     "text": [
      "socially       3966\n",
      "rarely          746\n",
      "often           516\n",
      "not at all      503\n",
      "very often       69\n",
      "desperately      44\n",
      "Name: drinks, dtype: int64\n"
     ]
    }
   ],
   "source": [
    "print(new_df[\"drinks\"].value_counts())"
   ]
  },
  {
   "cell_type": "code",
   "execution_count": 29,
   "metadata": {},
   "outputs": [
    {
     "name": "stdout",
     "output_type": "stream",
     "text": [
      "graduated from college/university    2336\n",
      "graduated from masters program        913\n",
      "working on college/university         785\n",
      "graduated from two-year college       233\n",
      "graduated from high school            206\n",
      "working on two-year college           176\n",
      "working on masters program            168\n",
      "dropped out of college/university     159\n",
      "graduated from ph.d program           126\n",
      "graduated from law school             118\n",
      "dropped out of space camp              99\n",
      "graduated from space camp              82\n",
      "working on ph.d program                80\n",
      "working on space camp                  69\n",
      "college/university                     60\n",
      "graduated from med school              48\n",
      "dropped out of two-year college        28\n",
      "working on med school                  24\n",
      "dropped out of masters program         23\n",
      "working on law school                  22\n",
      "dropped out of high school             21\n",
      "two-year college                       19\n",
      "working on high school                 16\n",
      "dropped out of ph.d program            12\n",
      "space camp                              8\n",
      "high school                             6\n",
      "masters program                         5\n",
      "dropped out of law school               2\n",
      "Name: education, dtype: int64\n"
     ]
    }
   ],
   "source": [
    "print(new_df[\"education\"].value_counts())"
   ]
  },
  {
   "cell_type": "code",
   "execution_count": 30,
   "metadata": {},
   "outputs": [
    {
     "name": "stdout",
     "output_type": "stream",
     "text": [
      "likes dogs and likes cats          2350\n",
      "likes dogs                          788\n",
      "likes dogs and has cats             690\n",
      "has dogs                            451\n",
      "has dogs and likes cats             429\n",
      "likes dogs and dislikes cats        350\n",
      "has dogs and has cats               258\n",
      "has cats                            156\n",
      "likes cats                          143\n",
      "has dogs and dislikes cats          103\n",
      "dislikes dogs and likes cats         59\n",
      "dislikes dogs and dislikes cats      36\n",
      "dislikes dogs and has cats           15\n",
      "dislikes cats                        12\n",
      "dislikes dogs                         4\n",
      "Name: pets, dtype: int64\n"
     ]
    }
   ],
   "source": [
    "print(new_df[\"pets\"].value_counts())"
   ]
  },
  {
   "cell_type": "code",
   "execution_count": 31,
   "metadata": {},
   "outputs": [
    {
     "name": "stdout",
     "output_type": "stream",
     "text": [
      "50000      4120\n",
      "20000       621\n",
      "100000      216\n",
      "30000       166\n",
      "40000       163\n",
      "80000       147\n",
      "60000       120\n",
      "70000        94\n",
      "150000       88\n",
      "1000000      81\n",
      "250000       20\n",
      "500000        8\n",
      "Name: income, dtype: int64\n"
     ]
    }
   ],
   "source": [
    "print(new_df[\"income\"].value_counts())"
   ]
  },
  {
   "cell_type": "code",
   "execution_count": 32,
   "metadata": {
    "scrolled": true
   },
   "outputs": [
    {
     "name": "stdout",
     "output_type": "stream",
     "text": [
      "agnosticism but not too serious about it      447\n",
      "agnosticism and laughing about it             412\n",
      "other and laughing about it                   396\n",
      "atheism and laughing about it                 355\n",
      "catholicism but not too serious about it      349\n",
      "christianity but not too serious about it     345\n",
      "other but not too serious about it            333\n",
      "other                                         330\n",
      "agnosticism                                   286\n",
      "atheism but not too serious about it          198\n",
      "atheism                                       189\n",
      "judaism but not too serious about it          183\n",
      "christianity and somewhat serious about it    170\n",
      "christianity                                  168\n",
      "other and somewhat serious about it           167\n",
      "atheism and somewhat serious about it         157\n",
      "catholicism and laughing about it             131\n",
      "buddhism but not too serious about it         116\n",
      "atheism and very serious about it             106\n",
      "agnosticism and somewhat serious about it     100\n",
      "catholicism and somewhat serious about it      98\n",
      "christianity and very serious about it         94\n",
      "other and very serious about it                94\n",
      "judaism and laughing about it                  86\n",
      "buddhism and somewhat serious about it         84\n",
      "buddhism and laughing about it                 81\n",
      "catholicism                                    70\n",
      "christianity and laughing about it             53\n",
      "agnosticism and very serious about it          49\n",
      "judaism                                        42\n",
      "judaism and somewhat serious about it          38\n",
      "buddhism                                       29\n",
      "catholicism and very serious about it          18\n",
      "hinduism but not too serious about it          15\n",
      "buddhism and very serious about it             11\n",
      "hinduism and somewhat serious about it         11\n",
      "islam but not too serious about it              6\n",
      "hinduism and laughing about it                  5\n",
      "hinduism                                        5\n",
      "islam and somewhat serious about it             4\n",
      "judaism and very serious about it               3\n",
      "islam and very serious about it                 3\n",
      "islam and laughing about it                     3\n",
      "hinduism and very serious about it              3\n",
      "islam                                           1\n",
      "Name: religion, dtype: int64\n"
     ]
    }
   ],
   "source": [
    "print(new_df[\"religion\"].value_counts())"
   ]
  },
  {
   "cell_type": "code",
   "execution_count": 126,
   "metadata": {},
   "outputs": [
    {
     "name": "stdout",
     "output_type": "stream",
     "text": [
      "no                4639\n",
      "sometimes          423\n",
      "when drinking      319\n",
      "yes                266\n",
      "trying to quit     197\n",
      "Name: smokes, dtype: int64\n"
     ]
    }
   ],
   "source": [
    "print(new_df[\"smokes\"].value_counts())"
   ]
  },
  {
   "cell_type": "code",
   "execution_count": 222,
   "metadata": {},
   "outputs": [],
   "source": [
    "#Changed Text to Integers for Certain Columns\n",
    "new_dictionary = {\"status\": {\"single\":0, \"available\":0, \"seeing someone\":1, \"married\":1}, \n",
    "                 \"drinks\": {\"socially\":1, \"rarely\":1, \"not at all\":0, \"often\":2, \"very often\":2, \"desperately\":2},\n",
    "                 \"drugs\": {\"never\":0, \"sometimes\":1, \"often\":2},\n",
    "                 \"orientation\": {\"straight\":0, \"bisexual\":1, \"gay\":2},\n",
    "                  \"sex\":{\"m\":0, \"f\":1},\n",
    "                  \"education\":{\"graduated from med school\":8,\"working on med school\":8, \"graduated from ph.d program\":8, \"working on ph.d program\":8, \"graduated from law school\":7,\"working on law school\":7,\"dropped out of ph.d program\":6,\"dropped out of law school\":6,\"space camp\":5, \"graduated from space camp\":5, \"working on space camp\":5, \"dropped out of space camp\":4,\"graduated from masters program\":6,\"masters program\":6,\"working on masters program\":6,\"dropped out of masters program\":5, \"graduated from college/university\":5,\"college/university\":5, \"graduated from two-year college\":4, \"working on college/university\":5,\"working on two-year college\":4, \"dropped out of two-year college\":3,\"two-year college\":4, \"dropped out of college/university\":3, \"graduated from high school\":2,\"high school\":2,\"working on high school\":1, \"dropped out of high school\":0},\n",
    "                  \"pets\":{\"likes dogs and likes cats\":2,\"likes dogs\":2,\"likes dogs and has cats\":2,\"has dogs\":2,\"has dogs and likes cats\":2,\"likes dogs and dislikes cats\":1,\"has dogs and has cats\":2,\"has cats\":2,\"likes cats\":2,\"has dogs and dislikes cats\":1,\"dislikes dogs and likes cats\":1,\"dislikes dogs and dislikes cats\":0,\"dislikes dogs and has cats\":1,\"dislikes cats\":0,\"dislikes dogs\":0},\n",
    "                  \"religion\":{\"agnosticism but not too serious about it\":1,\"other and laughing about it\":2,\"agnosticism and laughing about it\":1,\"atheism and laughing about it\":1,\"christianity but not too serious about it\":3,\"catholicism but not too serious about it\":3,\"other but not too serious about it\":3,\"other\":14,\"agnosticism\":1,\"atheism but not too serious about it\":1,\"atheism\":0,\"judaism but not too serious about it\":3,\"christianity\":4,\"other and somewhat serious about it\":14,\"christianity and somewhat serious about it\":4,\"atheism and somewhat serious about it\":0,\"catholicism and laughing about it\":2,\"atheism and very serious about it\":0,\"buddhism but not too serious about it\":2,\"agnosticism and somewhat serious about it\":0,\"other and very serious about it\":14,\"catholicism and somewhat serious about it\":8,\"christianity and very serious about it\":8,\"buddhism and somewhat serious about it\":12,\"judaism and laughing about it\":2,\"buddhism and laughing about it\":2,\"catholicism\":4,\"agnosticism and very serious about it\":0,\"christianity and laughing about it\":2,\"judaism and somewhat serious about it\":6,\"judaism\":6,\"buddhism\":12,\"catholicism and very serious about it\":8,\"hinduism and somewhat serious about it\":5,\"hinduism but not too serious about it\":2,\"buddhism and very serious about it\":13,\"islam but not too serious about it\":2,\"hinduism\":5,\"islam and somewhat serious about it\":7,\"judaism and very serious about it\":10,\"hinduism and very serious about it\":9,\"islam and very serious about it\":11,\"hinduism and laughing about it\":2,\"islam and laughing about it\":2,\"islam\":7},\n",
    "                  \"offspring\": {\"doesn&rsquo;t have kids, but might want them\":1,\"doesn&rsquo;t want kids\":0,\"doesn&rsquo;t have kids, but wants them\":2,\"doesn&rsquo;t have kids\":1,\"wants kids\":2, \"has a kid\":4,\"has kids\":4,\"doesn&rsquo;t have kids, and doesn&rsquo;t want any\":0,\"has kids, but doesn&rsquo;t want more\":3,\"has a kid, but doesn&rsquo;t want more\":3,\"has a kid, and wants more\":5,\"has kids, and might want more\":5,\"might want kids\":2,\"has a kid, and might want more\":5,\"has kids, and wants more\":6,\"n\":0},\n",
    "                  \"smokes\": {\"no\":0,\"sometimes\":1,\"when drinking\":1,\"yes\":2,\"trying to quit\":2}}   \n",
    "new_dff = new_df.replace(new_dictionary)\n"
   ]
  },
  {
   "cell_type": "code",
   "execution_count": 223,
   "metadata": {},
   "outputs": [
    {
     "name": "stdout",
     "output_type": "stream",
     "text": [
      "   age       body_type               diet  drinks  drugs  education  \\\n",
      "0   22  a little extra  strictly anything       1      0          5   \n",
      "9   37        athletic    mostly anything       0      0          4   \n",
      "11  28         average    mostly anything       1      0          5   \n",
      "18  31         average  mostly vegetarian       1      0          5   \n",
      "19  33        athletic    mostly anything       1      0          6   \n",
      "\n",
      "                                               essay0  \\\n",
      "0   about me:<br />\\n<br />\\ni would love to think...   \n",
      "9   my names jake.<br />\\ni'm a creative guy and i...   \n",
      "11  i was born in wisconsin, grew up in iowa, and ...   \n",
      "18  some of my favorite things:<br />\\nriding my m...   \n",
      "19  i relocated to san francisco half a year ago. ...   \n",
      "\n",
      "                                               essay1  \\\n",
      "0   currently working as an international agent fo...   \n",
      "9   i have an apartment. i like to explore and che...   \n",
      "11  i'm currently the youngest member on an intern...   \n",
      "18    enjoying it, exploring limits, looking for love   \n",
      "19  i left my comfort zone far behind in europe, a...   \n",
      "\n",
      "                                               essay2  \\\n",
      "0   making people laugh.<br />\\nranting about a go...   \n",
      "9   i'm good at finding creative solutions to prob...   \n",
      "11  i'm really good at a little bit of everything....   \n",
      "18  understanding, appreciating, i like getting a ...   \n",
      "19  listening, connecting emotionally, analyzing t...   \n",
      "\n",
      "                                               essay3  ...  \\\n",
      "0   the way i look. i am a six foot half asian, ha...  ...   \n",
      "9                                           i'm short  ...   \n",
      "11  the way i dress. some days it's hats, other da...  ...   \n",
      "18  blue eyes and a kind soul... although i don't ...  ...   \n",
      "19  cheerful, open, curious, direct, active, sport...  ...   \n",
      "\n",
      "                           location offspring orientation pets religion sex  \\\n",
      "0   south san francisco, california         1           0    2        0   0   \n",
      "9             san mateo, california         0           0    2        1   0   \n",
      "11            daly city, california         0           0    2        8   0   \n",
      "18        san francisco, california         0           0    2        4   0   \n",
      "19        san francisco, california         1           0    2        3   0   \n",
      "\n",
      "                                        sign smokes  \\\n",
      "0                                     gemini      1   \n",
      "9         cancer but it doesn&rsquo;t matter      0   \n",
      "11           leo but it doesn&rsquo;t matter      0   \n",
      "18         libra but it doesn&rsquo;t matter      0   \n",
      "19  pisces and it&rsquo;s fun to think about      0   \n",
      "\n",
      "                                        speaks status  \n",
      "0                                      english      0  \n",
      "9                           english (fluently)      0  \n",
      "11  english (fluently), sign language (poorly)      1  \n",
      "18                          english (fluently)      0  \n",
      "19                          english (fluently)      0  \n",
      "\n",
      "[5 rows x 31 columns]\n"
     ]
    }
   ],
   "source": [
    "print(new_dff.head())"
   ]
  },
  {
   "cell_type": "code",
   "execution_count": 224,
   "metadata": {},
   "outputs": [
    {
     "data": {
      "text/html": [
       "<div>\n",
       "<style scoped>\n",
       "    .dataframe tbody tr th:only-of-type {\n",
       "        vertical-align: middle;\n",
       "    }\n",
       "\n",
       "    .dataframe tbody tr th {\n",
       "        vertical-align: top;\n",
       "    }\n",
       "\n",
       "    .dataframe thead th {\n",
       "        text-align: right;\n",
       "    }\n",
       "</style>\n",
       "<table border=\"1\" class=\"dataframe\">\n",
       "  <thead>\n",
       "    <tr style=\"text-align: right;\">\n",
       "      <th></th>\n",
       "      <th>drinks</th>\n",
       "      <th>drugs</th>\n",
       "      <th>education</th>\n",
       "      <th>income</th>\n",
       "      <th>orientation</th>\n",
       "      <th>pets</th>\n",
       "      <th>religion</th>\n",
       "      <th>sex</th>\n",
       "      <th>smokes</th>\n",
       "      <th>status</th>\n",
       "    </tr>\n",
       "  </thead>\n",
       "  <tbody>\n",
       "    <tr>\n",
       "      <th>drinks</th>\n",
       "      <td>1.000000</td>\n",
       "      <td>0.246865</td>\n",
       "      <td>-0.004950</td>\n",
       "      <td>0.051706</td>\n",
       "      <td>-0.007533</td>\n",
       "      <td>-0.014284</td>\n",
       "      <td>-0.097086</td>\n",
       "      <td>-0.000123</td>\n",
       "      <td>0.172669</td>\n",
       "      <td>-0.003709</td>\n",
       "    </tr>\n",
       "    <tr>\n",
       "      <th>drugs</th>\n",
       "      <td>0.246865</td>\n",
       "      <td>1.000000</td>\n",
       "      <td>-0.138429</td>\n",
       "      <td>0.065015</td>\n",
       "      <td>0.048684</td>\n",
       "      <td>0.007492</td>\n",
       "      <td>-0.058480</td>\n",
       "      <td>-0.070345</td>\n",
       "      <td>0.340562</td>\n",
       "      <td>0.025139</td>\n",
       "    </tr>\n",
       "    <tr>\n",
       "      <th>education</th>\n",
       "      <td>-0.004950</td>\n",
       "      <td>-0.138429</td>\n",
       "      <td>1.000000</td>\n",
       "      <td>-0.002856</td>\n",
       "      <td>-0.012230</td>\n",
       "      <td>0.002520</td>\n",
       "      <td>0.002140</td>\n",
       "      <td>0.084116</td>\n",
       "      <td>-0.210768</td>\n",
       "      <td>-0.011726</td>\n",
       "    </tr>\n",
       "    <tr>\n",
       "      <th>income</th>\n",
       "      <td>0.051706</td>\n",
       "      <td>0.065015</td>\n",
       "      <td>-0.002856</td>\n",
       "      <td>1.000000</td>\n",
       "      <td>-0.018794</td>\n",
       "      <td>-0.014181</td>\n",
       "      <td>0.003890</td>\n",
       "      <td>-0.071996</td>\n",
       "      <td>0.038861</td>\n",
       "      <td>-0.003548</td>\n",
       "    </tr>\n",
       "    <tr>\n",
       "      <th>orientation</th>\n",
       "      <td>-0.007533</td>\n",
       "      <td>0.048684</td>\n",
       "      <td>-0.012230</td>\n",
       "      <td>-0.018794</td>\n",
       "      <td>1.000000</td>\n",
       "      <td>-0.030393</td>\n",
       "      <td>0.026012</td>\n",
       "      <td>-0.000251</td>\n",
       "      <td>0.037519</td>\n",
       "      <td>0.041629</td>\n",
       "    </tr>\n",
       "    <tr>\n",
       "      <th>pets</th>\n",
       "      <td>-0.014284</td>\n",
       "      <td>0.007492</td>\n",
       "      <td>0.002520</td>\n",
       "      <td>-0.014181</td>\n",
       "      <td>-0.030393</td>\n",
       "      <td>1.000000</td>\n",
       "      <td>0.000822</td>\n",
       "      <td>-0.003919</td>\n",
       "      <td>-0.005805</td>\n",
       "      <td>0.016322</td>\n",
       "    </tr>\n",
       "    <tr>\n",
       "      <th>religion</th>\n",
       "      <td>-0.097086</td>\n",
       "      <td>-0.058480</td>\n",
       "      <td>0.002140</td>\n",
       "      <td>0.003890</td>\n",
       "      <td>0.026012</td>\n",
       "      <td>0.000822</td>\n",
       "      <td>1.000000</td>\n",
       "      <td>0.112119</td>\n",
       "      <td>-0.015135</td>\n",
       "      <td>-0.033068</td>\n",
       "    </tr>\n",
       "    <tr>\n",
       "      <th>sex</th>\n",
       "      <td>-0.000123</td>\n",
       "      <td>-0.070345</td>\n",
       "      <td>0.084116</td>\n",
       "      <td>-0.071996</td>\n",
       "      <td>-0.000251</td>\n",
       "      <td>-0.003919</td>\n",
       "      <td>0.112119</td>\n",
       "      <td>1.000000</td>\n",
       "      <td>-0.057960</td>\n",
       "      <td>0.031269</td>\n",
       "    </tr>\n",
       "    <tr>\n",
       "      <th>smokes</th>\n",
       "      <td>0.172669</td>\n",
       "      <td>0.340562</td>\n",
       "      <td>-0.210768</td>\n",
       "      <td>0.038861</td>\n",
       "      <td>0.037519</td>\n",
       "      <td>-0.005805</td>\n",
       "      <td>-0.015135</td>\n",
       "      <td>-0.057960</td>\n",
       "      <td>1.000000</td>\n",
       "      <td>0.001578</td>\n",
       "    </tr>\n",
       "    <tr>\n",
       "      <th>status</th>\n",
       "      <td>-0.003709</td>\n",
       "      <td>0.025139</td>\n",
       "      <td>-0.011726</td>\n",
       "      <td>-0.003548</td>\n",
       "      <td>0.041629</td>\n",
       "      <td>0.016322</td>\n",
       "      <td>-0.033068</td>\n",
       "      <td>0.031269</td>\n",
       "      <td>0.001578</td>\n",
       "      <td>1.000000</td>\n",
       "    </tr>\n",
       "  </tbody>\n",
       "</table>\n",
       "</div>"
      ],
      "text/plain": [
       "               drinks     drugs  education    income  orientation      pets  \\\n",
       "drinks       1.000000  0.246865  -0.004950  0.051706    -0.007533 -0.014284   \n",
       "drugs        0.246865  1.000000  -0.138429  0.065015     0.048684  0.007492   \n",
       "education   -0.004950 -0.138429   1.000000 -0.002856    -0.012230  0.002520   \n",
       "income       0.051706  0.065015  -0.002856  1.000000    -0.018794 -0.014181   \n",
       "orientation -0.007533  0.048684  -0.012230 -0.018794     1.000000 -0.030393   \n",
       "pets        -0.014284  0.007492   0.002520 -0.014181    -0.030393  1.000000   \n",
       "religion    -0.097086 -0.058480   0.002140  0.003890     0.026012  0.000822   \n",
       "sex         -0.000123 -0.070345   0.084116 -0.071996    -0.000251 -0.003919   \n",
       "smokes       0.172669  0.340562  -0.210768  0.038861     0.037519 -0.005805   \n",
       "status      -0.003709  0.025139  -0.011726 -0.003548     0.041629  0.016322   \n",
       "\n",
       "             religion       sex    smokes    status  \n",
       "drinks      -0.097086 -0.000123  0.172669 -0.003709  \n",
       "drugs       -0.058480 -0.070345  0.340562  0.025139  \n",
       "education    0.002140  0.084116 -0.210768 -0.011726  \n",
       "income       0.003890 -0.071996  0.038861 -0.003548  \n",
       "orientation  0.026012 -0.000251  0.037519  0.041629  \n",
       "pets         0.000822 -0.003919 -0.005805  0.016322  \n",
       "religion     1.000000  0.112119 -0.015135 -0.033068  \n",
       "sex          0.112119  1.000000 -0.057960  0.031269  \n",
       "smokes      -0.015135 -0.057960  1.000000  0.001578  \n",
       "status      -0.033068  0.031269  0.001578  1.000000  "
      ]
     },
     "execution_count": 224,
     "metadata": {},
     "output_type": "execute_result"
    }
   ],
   "source": [
    "#nothings is particularly correlated although drugs/age slight negative correlation, education/age slight positive, religion/age slight positive, education/age slight positive\n",
    "new_dff.corr()"
   ]
  },
  {
   "cell_type": "code",
   "execution_count": 330,
   "metadata": {},
   "outputs": [
    {
     "name": "stdout",
     "output_type": "stream",
     "text": [
      "[ 0.31963489  1.1870003  -0.12881276 -0.07391855 -0.13175463 -1.03776688\n",
      " -0.04904717 -0.19964381 -0.53096386 -0.39497345  0.31963489 -0.86421531]\n"
     ]
    }
   ],
   "source": [
    "#scale\n",
    "data = new_dff[[\"pets\",\"smokes\",\"offspring\",\"education\",\"income\",\"age\", \"drinks\", \"status\", \"drugs\", \"orientation\", \"pets\", \"religion\"]]\n",
    "from sklearn.preprocessing import scale\n",
    "scaled_data = scale(data, axis = 0)\n",
    "print(scaled_data[0])"
   ]
  },
  {
   "cell_type": "code",
   "execution_count": 331,
   "metadata": {},
   "outputs": [
    {
     "name": "stdout",
     "output_type": "stream",
     "text": [
      "0.6244653550042771\n"
     ]
    }
   ],
   "source": [
    "#Gender, correctly labels gender 82%\n",
    "from sklearn.model_selection import train_test_split\n",
    "from sklearn import tree\n",
    "from sklearn.ensemble import RandomForestClassifier\n",
    "import numpy as np\n",
    "labels = new_dff[\"sex\"]\n",
    "data = scaled_data\n",
    "training_data, validation_data, training_labels, validation_labels = train_test_split(data, labels, train_size = 0.8, test_size = 0.2, random_state = 1)\n",
    "forest = RandomForestClassifier(random_state = 1)\n",
    "forest.fit(training_data, np.ravel(training_labels,order='C'))\n",
    "print(forest.score(validation_data, validation_labels))"
   ]
  },
  {
   "cell_type": "code",
   "execution_count": 332,
   "metadata": {},
   "outputs": [],
   "source": [
    "# Make predictions for the test set\n",
    "y_pred_test = forest.predict(validation_data)"
   ]
  },
  {
   "cell_type": "code",
   "execution_count": 333,
   "metadata": {},
   "outputs": [
    {
     "name": "stdout",
     "output_type": "stream",
     "text": [
      "[0 0 0 ... 1 0 0]\n"
     ]
    }
   ],
   "source": [
    "print(y_pred_test)"
   ]
  },
  {
   "cell_type": "code",
   "execution_count": 334,
   "metadata": {},
   "outputs": [
    {
     "data": {
      "text/plain": [
       "array([[531, 177],\n",
       "       [262, 199]], dtype=int64)"
      ]
     },
     "execution_count": 334,
     "metadata": {},
     "output_type": "execute_result"
    }
   ],
   "source": [
    "from sklearn.metrics import accuracy_score, confusion_matrix, classification_report\n",
    "confusion_matrix(validation_labels, y_pred_test)"
   ]
  },
  {
   "cell_type": "code",
   "execution_count": 335,
   "metadata": {},
   "outputs": [
    {
     "data": {
      "image/png": "[encoded data removed]",
      "text/plain": [
       "<Figure size 1152x504 with 2 Axes>"
      ]
     },
     "metadata": {},
     "output_type": "display_data"
    }
   ],
   "source": [
    "import matplotlib.pyplot as plt\n",
    "import seaborn as sns\n",
    "# Get and reshape confusion matrix data\n",
    "matrix = confusion_matrix(validation_labels, y_pred_test)\n",
    "matrix = matrix.astype('float') / matrix.sum(axis=1)[:, np.newaxis]\n",
    "\n",
    "# Build the plot\n",
    "plt.figure(figsize=(16,7))\n",
    "sns.set(font_scale=1.4)\n",
    "sns.heatmap(matrix, annot=True, annot_kws={'size':10},\n",
    "            cmap=plt.cm.Greens, linewidths=0.2)\n",
    "\n",
    "# Add labels to the plot\n",
    "class_names = [0,1]\n",
    "tick_marks = np.arange(len(class_names))\n",
    "tick_marks2 = tick_marks + 0.5\n",
    "plt.xticks(tick_marks, class_names, rotation=25)\n",
    "plt.yticks(tick_marks2, class_names, rotation=0)\n",
    "plt.xlabel('Predicted label')\n",
    "plt.ylabel('True label')\n",
    "plt.title('Confusion Matrix for Random Forest Model')\n",
    "plt.show()"
   ]
  },
  {
   "cell_type": "code",
   "execution_count": 265,
   "metadata": {},
   "outputs": [
    {
     "name": "stdout",
     "output_type": "stream",
     "text": [
      "[ 0.31963489  1.1870003  -0.8404031   1.69780369 -0.12881276 -0.07391855\n",
      " -1.03776688 -0.04904717 -0.19964381 -0.53096386 -0.39497345  0.31963489\n",
      " -0.86421531]\n"
     ]
    }
   ],
   "source": [
    "#scale\n",
    "data = new_dff[[\"pets\",\"smokes\",\"sex\",\"height\",\"offspring\",\"education\",\"age\", \"drinks\", \"status\", \"drugs\", \"orientation\", \"pets\", \"religion\"]]\n",
    "from sklearn.preprocessing import scale\n",
    "scaled_data = scale(data, axis = 0)\n",
    "print(scaled_data[0])"
   ]
  },
  {
   "cell_type": "code",
   "execution_count": 266,
   "metadata": {},
   "outputs": [
    {
     "name": "stdout",
     "output_type": "stream",
     "text": [
      "0.6467065868263473\n"
     ]
    }
   ],
   "source": [
    "#labels income 65% of the time\n",
    "from sklearn.model_selection import train_test_split\n",
    "from sklearn import tree\n",
    "from sklearn.ensemble import RandomForestClassifier\n",
    "import numpy as np\n",
    "labels = new_dff[[\"income\"]]\n",
    "data = scaled_data\n",
    "training_data, validation_data, training_labels, validation_labels = train_test_split(data, labels, train_size = 0.8, test_size = 0.2, random_state = 1)\n",
    "forest = RandomForestClassifier(random_state = 1)\n",
    "forest.fit(training_data, np.ravel(training_labels,order='C'))\n",
    "print(forest.score(validation_data, validation_labels))"
   ]
  },
  {
   "cell_type": "code",
   "execution_count": 267,
   "metadata": {},
   "outputs": [
    {
     "name": "stdout",
     "output_type": "stream",
     "text": [
      "[ 0.31963489  1.1870003  -0.13175463 -0.8404031   1.69780369 -0.12881276\n",
      " -0.07391855 -1.03776688 -0.19964381 -0.53096386 -0.39497345  0.31963489\n",
      " -0.86421531]\n"
     ]
    }
   ],
   "source": [
    "#scale\n",
    "data = new_dff[[\"pets\",\"smokes\",\"income\",\"sex\",\"height\",\"offspring\",\"education\",\"age\", \"status\", \"drugs\", \"orientation\", \"pets\", \"religion\"]]\n",
    "from sklearn.preprocessing import scale\n",
    "scaled_data = scale(data, axis = 0)\n",
    "print(scaled_data[0])"
   ]
  },
  {
   "cell_type": "code",
   "execution_count": 268,
   "metadata": {},
   "outputs": [
    {
     "name": "stdout",
     "output_type": "stream",
     "text": [
      "0.7938408896492729\n"
     ]
    }
   ],
   "source": [
    "#labels level of drinking 80% of the time\n",
    "from sklearn.model_selection import train_test_split\n",
    "from sklearn import tree\n",
    "from sklearn.ensemble import RandomForestClassifier\n",
    "import numpy as np\n",
    "labels = new_dff[[\"drinks\"]]\n",
    "data = scaled_data\n",
    "training_data, validation_data, training_labels, validation_labels = train_test_split(data, labels, train_size = 0.8, test_size = 0.2, random_state = 1)\n",
    "forest = RandomForestClassifier(random_state = 1)\n",
    "forest.fit(training_data, np.ravel(training_labels,order='C'))\n",
    "print(forest.score(validation_data, validation_labels))"
   ]
  },
  {
   "cell_type": "code",
   "execution_count": 269,
   "metadata": {},
   "outputs": [
    {
     "name": "stdout",
     "output_type": "stream",
     "text": [
      "[ 0.31963489  1.1870003  -0.13175463 -0.8404031   1.69780369 -0.12881276\n",
      " -0.07391855 -1.03776688 -0.19964381 -0.04904717 -0.39497345  0.31963489\n",
      " -0.86421531]\n"
     ]
    }
   ],
   "source": [
    "#without drugs\n",
    "#scale\n",
    "data = new_dff[[\"pets\",\"smokes\",\"income\",\"sex\",\"height\",\"offspring\",\"education\",\"age\", \"status\", \"drinks\", \"orientation\", \"pets\", \"religion\"]]\n",
    "from sklearn.preprocessing import scale\n",
    "scaled_data = scale(data, axis = 0)\n",
    "print(scaled_data[0])"
   ]
  },
  {
   "cell_type": "code",
   "execution_count": 270,
   "metadata": {},
   "outputs": [
    {
     "name": "stdout",
     "output_type": "stream",
     "text": [
      "0.7630453378956373\n"
     ]
    }
   ],
   "source": [
    "#labels level of drug use %76 of the time\n",
    "from sklearn.model_selection import train_test_split\n",
    "from sklearn import tree\n",
    "from sklearn.ensemble import RandomForestClassifier\n",
    "import numpy as np\n",
    "labels = new_dff[[\"drugs\"]]\n",
    "data = scaled_data\n",
    "training_data, validation_data, training_labels, validation_labels = train_test_split(data, labels, train_size = 0.8, test_size = 0.2, random_state = 1)\n",
    "forest = RandomForestClassifier(random_state = 1)\n",
    "forest.fit(training_data, np.ravel(training_labels,order='C'))\n",
    "print(forest.score(validation_data, validation_labels))"
   ]
  },
  {
   "cell_type": "code",
   "execution_count": 271,
   "metadata": {},
   "outputs": [
    {
     "name": "stdout",
     "output_type": "stream",
     "text": [
      "[ 0.31963489  1.1870003  -0.13175463 -0.8404031   1.69780369 -0.12881276\n",
      " -0.07391855 -1.03776688 -0.53096386 -0.04904717 -0.39497345  0.31963489\n",
      " -0.86421531]\n"
     ]
    }
   ],
   "source": [
    "#without relationship status\n",
    "#scale\n",
    "data = new_dff[[\"pets\",\"smokes\",\"income\",\"sex\",\"height\",\"offspring\",\"education\",\"age\", \"drugs\", \"drinks\", \"orientation\", \"pets\", \"religion\"]]\n",
    "from sklearn.preprocessing import scale\n",
    "scaled_data = scale(data, axis = 0)\n",
    "print(scaled_data[0])"
   ]
  },
  {
   "cell_type": "code",
   "execution_count": 272,
   "metadata": {},
   "outputs": [
    {
     "name": "stdout",
     "output_type": "stream",
     "text": [
      "0.9657924743443558\n"
     ]
    }
   ],
   "source": [
    "#labels relationship status 96% of the time, but they are mostly single\n",
    "from sklearn.model_selection import train_test_split\n",
    "from sklearn import tree\n",
    "from sklearn.ensemble import RandomForestClassifier\n",
    "import numpy as np\n",
    "labels = new_dff[[\"status\"]]\n",
    "data = scaled_data\n",
    "training_data, validation_data, training_labels, validation_labels = train_test_split(data, labels, train_size = 0.7, test_size = 0.3, random_state = 1)\n",
    "forest = RandomForestClassifier(random_state = 1)\n",
    "forest.fit(training_data, np.ravel(training_labels,order='C'))\n",
    "print(forest.score(validation_data, validation_labels))"
   ]
  },
  {
   "cell_type": "code",
   "execution_count": 273,
   "metadata": {},
   "outputs": [],
   "source": [
    "# Make predictions for the test set\n",
    "y_pred_test = forest.predict(validation_data)"
   ]
  },
  {
   "cell_type": "code",
   "execution_count": 274,
   "metadata": {},
   "outputs": [
    {
     "name": "stdout",
     "output_type": "stream",
     "text": [
      "[0 0 0 ... 0 0 0]\n"
     ]
    }
   ],
   "source": [
    "#small dtataset, doesn't work for married so changed married to 1 as well\n",
    "print(y_pred_test)"
   ]
  },
  {
   "cell_type": "code",
   "execution_count": 275,
   "metadata": {},
   "outputs": [
    {
     "data": {
      "text/plain": [
       "array([[1694,    3],\n",
       "       [  57,    0]], dtype=int64)"
      ]
     },
     "execution_count": 275,
     "metadata": {},
     "output_type": "execute_result"
    }
   ],
   "source": [
    "from sklearn.metrics import accuracy_score, confusion_matrix, classification_report\n",
    "confusion_matrix(validation_labels, y_pred_test)"
   ]
  },
  {
   "cell_type": "code",
   "execution_count": 276,
   "metadata": {},
   "outputs": [
    {
     "data": {
      "image/png": "[encoded data removed]",
      "text/plain": [
       "<Figure size 1152x504 with 2 Axes>"
      ]
     },
     "metadata": {},
     "output_type": "display_data"
    }
   ],
   "source": [
    "import matplotlib.pyplot as plt\n",
    "import seaborn as sns\n",
    "# Get and reshape confusion matrix data\n",
    "matrix = confusion_matrix(validation_labels, y_pred_test)\n",
    "matrix = matrix.astype('float') / matrix.sum(axis=1)[:, np.newaxis]\n",
    "\n",
    "# Build the plot\n",
    "plt.figure(figsize=(16,7))\n",
    "sns.set(font_scale=1.4)\n",
    "sns.heatmap(matrix, annot=True, annot_kws={'size':10},\n",
    "            cmap=plt.cm.Greens, linewidths=0.2)\n",
    "\n",
    "# Add labels to the plot\n",
    "class_names = [0,1]\n",
    "tick_marks = np.arange(len(class_names))\n",
    "tick_marks2 = tick_marks + 0.5\n",
    "plt.xticks(tick_marks, class_names, rotation=25)\n",
    "plt.yticks(tick_marks2, class_names, rotation=0)\n",
    "plt.xlabel('Predicted label')\n",
    "plt.ylabel('True label')\n",
    "plt.title('Confusion Matrix for Random Forest Model')\n",
    "plt.show()"
   ]
  },
  {
   "cell_type": "code",
   "execution_count": 277,
   "metadata": {},
   "outputs": [],
   "source": [
    "import seaborn as sns\n",
    "import matplotlib.pyplot as plt\n",
    "import numpy as np \n",
    "\n",
    "from os.path import join, dirname, abspath\n",
    "from mpl_toolkits.mplot3d import Axes3D\n",
    "\n",
    "from sklearn.cluster import KMeans\n",
    "from sklearn import datasets"
   ]
  },
  {
   "cell_type": "code",
   "execution_count": 326,
   "metadata": {},
   "outputs": [
    {
     "name": "stdout",
     "output_type": "stream",
     "text": [
      "[ 0.31963489  1.1870003  -0.12881276 -0.07391855 -0.13175463 -0.04904717\n",
      " -0.53096386 -0.86421531 -0.19964381]\n"
     ]
    }
   ],
   "source": [
    "#scale\n",
    "data = new_dff[[\"pets\",\"smokes\",\"offspring\",\"education\",\"income\", \"drinks\", \"drugs\",\"religion\",\"status\"]]\n",
    "from sklearn.preprocessing import scale\n",
    "scaled_datan = scale(data, axis = 0)\n",
    "print(scaled_datan[0])"
   ]
  },
  {
   "cell_type": "code",
   "execution_count": 327,
   "metadata": {},
   "outputs": [],
   "source": [
    "import pandas as pd\n",
    "import numpy as np\n",
    "import matplotlib.pyplot as plt"
   ]
  },
  {
   "cell_type": "code",
   "execution_count": 328,
   "metadata": {},
   "outputs": [],
   "source": [
    "from sklearn.cluster import KMeans"
   ]
  },
  {
   "cell_type": "code",
   "execution_count": 329,
   "metadata": {},
   "outputs": [],
   "source": [
    "kmeans = KMeans(100)\n",
    "kfit = kmeans.fit(scaled_datan)\n",
    "identified_clusters = kfit.predict(scaled_data)"
   ]
  },
  {
   "cell_type": "code",
   "execution_count": 325,
   "metadata": {
    "scrolled": false
   },
   "outputs": [
    {
     "data": {
      "text/html": [
       "<div>\n",
       "<style scoped>\n",
       "    .dataframe tbody tr th:only-of-type {\n",
       "        vertical-align: middle;\n",
       "    }\n",
       "\n",
       "    .dataframe tbody tr th {\n",
       "        vertical-align: top;\n",
       "    }\n",
       "\n",
       "    .dataframe thead th {\n",
       "        text-align: right;\n",
       "    }\n",
       "</style>\n",
       "<table border=\"1\" class=\"dataframe\">\n",
       "  <thead>\n",
       "    <tr style=\"text-align: right;\">\n",
       "      <th></th>\n",
       "      <th>age</th>\n",
       "      <th>body_type</th>\n",
       "      <th>diet</th>\n",
       "      <th>drinks</th>\n",
       "      <th>drugs</th>\n",
       "      <th>education</th>\n",
       "      <th>essay0</th>\n",
       "      <th>essay1</th>\n",
       "      <th>essay2</th>\n",
       "      <th>essay3</th>\n",
       "      <th>...</th>\n",
       "      <th>offspring</th>\n",
       "      <th>orientation</th>\n",
       "      <th>pets</th>\n",
       "      <th>religion</th>\n",
       "      <th>sex</th>\n",
       "      <th>sign</th>\n",
       "      <th>smokes</th>\n",
       "      <th>speaks</th>\n",
       "      <th>status</th>\n",
       "      <th>Cluster</th>\n",
       "    </tr>\n",
       "  </thead>\n",
       "  <tbody>\n",
       "    <tr>\n",
       "      <th>43327</th>\n",
       "      <td>32</td>\n",
       "      <td>a little extra</td>\n",
       "      <td>mostly anything</td>\n",
       "      <td>2</td>\n",
       "      <td>0</td>\n",
       "      <td>5</td>\n",
       "      <td>this is weird...i guess the one thing i can sa...</td>\n",
       "      <td>currently, trying very hard to move away from ...</td>\n",
       "      <td>...obviously not self promotion.</td>\n",
       "      <td>folks say i have a 'strong presence' after ini...</td>\n",
       "      <td>...</td>\n",
       "      <td>1</td>\n",
       "      <td>0</td>\n",
       "      <td>2</td>\n",
       "      <td>1</td>\n",
       "      <td>1</td>\n",
       "      <td>pisces and it&amp;rsquo;s fun to think about</td>\n",
       "      <td>0</td>\n",
       "      <td>english (fluently), japanese (poorly), spanish...</td>\n",
       "      <td>0</td>\n",
       "      <td>0</td>\n",
       "    </tr>\n",
       "    <tr>\n",
       "      <th>53670</th>\n",
       "      <td>23</td>\n",
       "      <td>average</td>\n",
       "      <td>mostly anything</td>\n",
       "      <td>2</td>\n",
       "      <td>0</td>\n",
       "      <td>5</td>\n",
       "      <td>a guy who has fun, doesn't take life too serio...</td>\n",
       "      <td>going to sfsu studying business management, an...</td>\n",
       "      <td>cooking, relaxing, camping, smiling, drinking,...</td>\n",
       "      <td>my big smile, especially if i'm drunk</td>\n",
       "      <td>...</td>\n",
       "      <td>1</td>\n",
       "      <td>0</td>\n",
       "      <td>2</td>\n",
       "      <td>2</td>\n",
       "      <td>0</td>\n",
       "      <td>pisces but it doesn&amp;rsquo;t matter</td>\n",
       "      <td>0</td>\n",
       "      <td>english</td>\n",
       "      <td>0</td>\n",
       "      <td>0</td>\n",
       "    </tr>\n",
       "    <tr>\n",
       "      <th>39377</th>\n",
       "      <td>29</td>\n",
       "      <td>skinny</td>\n",
       "      <td>mostly anything</td>\n",
       "      <td>2</td>\n",
       "      <td>0</td>\n",
       "      <td>4</td>\n",
       "      <td>im a transsexual looking for young white singl...</td>\n",
       "      <td>n joying everyday...&lt;br /&gt;\\nlife is too short...</td>\n",
       "      <td>hmm... my hands im an artist</td>\n",
       "      <td>my eyes... n legs..</td>\n",
       "      <td>...</td>\n",
       "      <td>0</td>\n",
       "      <td>0</td>\n",
       "      <td>2</td>\n",
       "      <td>3</td>\n",
       "      <td>1</td>\n",
       "      <td>sagittarius but it doesn&amp;rsquo;t matter</td>\n",
       "      <td>0</td>\n",
       "      <td>english (fluently)</td>\n",
       "      <td>0</td>\n",
       "      <td>0</td>\n",
       "    </tr>\n",
       "    <tr>\n",
       "      <th>9514</th>\n",
       "      <td>50</td>\n",
       "      <td>a little extra</td>\n",
       "      <td>mostly anything</td>\n",
       "      <td>2</td>\n",
       "      <td>0</td>\n",
       "      <td>5</td>\n",
       "      <td>self deprecating, fairly happy-go-lucky, quasi...</td>\n",
       "      <td>i wish i knew. what i want to do is make a dif...</td>\n",
       "      <td>evading questions for which there is no really...</td>\n",
       "      <td>you tell me..... everyone is going to see some...</td>\n",
       "      <td>...</td>\n",
       "      <td>0</td>\n",
       "      <td>2</td>\n",
       "      <td>2</td>\n",
       "      <td>2</td>\n",
       "      <td>0</td>\n",
       "      <td>cancer and it&amp;rsquo;s fun to think about</td>\n",
       "      <td>0</td>\n",
       "      <td>english (fluently), latin (poorly), french (po...</td>\n",
       "      <td>0</td>\n",
       "      <td>0</td>\n",
       "    </tr>\n",
       "    <tr>\n",
       "      <th>53086</th>\n",
       "      <td>39</td>\n",
       "      <td>fit</td>\n",
       "      <td>mostly anything</td>\n",
       "      <td>2</td>\n",
       "      <td>0</td>\n",
       "      <td>5</td>\n",
       "      <td>dont know where to start, so i wont yet... jus...</td>\n",
       "      <td>starting life in sf, where i got eight months ...</td>\n",
       "      <td>i do like to do many things, including paintin...</td>\n",
       "      <td>never asked.</td>\n",
       "      <td>...</td>\n",
       "      <td>1</td>\n",
       "      <td>0</td>\n",
       "      <td>2</td>\n",
       "      <td>1</td>\n",
       "      <td>0</td>\n",
       "      <td>aries and it&amp;rsquo;s fun to think about</td>\n",
       "      <td>0</td>\n",
       "      <td>english (okay), spanish (fluently)</td>\n",
       "      <td>0</td>\n",
       "      <td>0</td>\n",
       "    </tr>\n",
       "    <tr>\n",
       "      <th>...</th>\n",
       "      <td>...</td>\n",
       "      <td>...</td>\n",
       "      <td>...</td>\n",
       "      <td>...</td>\n",
       "      <td>...</td>\n",
       "      <td>...</td>\n",
       "      <td>...</td>\n",
       "      <td>...</td>\n",
       "      <td>...</td>\n",
       "      <td>...</td>\n",
       "      <td>...</td>\n",
       "      <td>...</td>\n",
       "      <td>...</td>\n",
       "      <td>...</td>\n",
       "      <td>...</td>\n",
       "      <td>...</td>\n",
       "      <td>...</td>\n",
       "      <td>...</td>\n",
       "      <td>...</td>\n",
       "      <td>...</td>\n",
       "      <td>...</td>\n",
       "    </tr>\n",
       "    <tr>\n",
       "      <th>37697</th>\n",
       "      <td>20</td>\n",
       "      <td>fit</td>\n",
       "      <td>mostly vegetarian</td>\n",
       "      <td>1</td>\n",
       "      <td>1</td>\n",
       "      <td>5</td>\n",
       "      <td>i was studying graphic and product design for ...</td>\n",
       "      <td>working as a line/prep cook. studying physics,...</td>\n",
       "      <td>enjoying things, creating things, making music...</td>\n",
       "      <td>how much of a smart ass i am, my eyes, imagina...</td>\n",
       "      <td>...</td>\n",
       "      <td>2</td>\n",
       "      <td>0</td>\n",
       "      <td>2</td>\n",
       "      <td>2</td>\n",
       "      <td>0</td>\n",
       "      <td>aries</td>\n",
       "      <td>1</td>\n",
       "      <td>english (fluently), dutch (okay), spanish (okay)</td>\n",
       "      <td>0</td>\n",
       "      <td>99</td>\n",
       "    </tr>\n",
       "    <tr>\n",
       "      <th>37689</th>\n",
       "      <td>22</td>\n",
       "      <td>average</td>\n",
       "      <td>mostly vegetarian</td>\n",
       "      <td>1</td>\n",
       "      <td>1</td>\n",
       "      <td>5</td>\n",
       "      <td>i would describe myself as an intense but fun ...</td>\n",
       "      <td>i'm currently studying at grinnell college and...</td>\n",
       "      <td>programming in ruby, having long intellectual ...</td>\n",
       "      <td>my glasses. and my offbeat sense of humor.</td>\n",
       "      <td>...</td>\n",
       "      <td>1</td>\n",
       "      <td>0</td>\n",
       "      <td>2</td>\n",
       "      <td>2</td>\n",
       "      <td>0</td>\n",
       "      <td>aries and it&amp;rsquo;s fun to think about</td>\n",
       "      <td>1</td>\n",
       "      <td>english (fluently), lisp (okay), hindi (fluent...</td>\n",
       "      <td>0</td>\n",
       "      <td>99</td>\n",
       "    </tr>\n",
       "    <tr>\n",
       "      <th>46069</th>\n",
       "      <td>21</td>\n",
       "      <td>curvy</td>\n",
       "      <td>anything</td>\n",
       "      <td>1</td>\n",
       "      <td>1</td>\n",
       "      <td>5</td>\n",
       "      <td>still just wandering.</td>\n",
       "      <td>i left sfsu to go to ccsf, where i can take wh...</td>\n",
       "      <td>interrupting, arguing, staying up really, real...</td>\n",
       "      <td>\"are you high?\"</td>\n",
       "      <td>...</td>\n",
       "      <td>2</td>\n",
       "      <td>0</td>\n",
       "      <td>2</td>\n",
       "      <td>0</td>\n",
       "      <td>1</td>\n",
       "      <td>capricorn and it&amp;rsquo;s fun to think about</td>\n",
       "      <td>1</td>\n",
       "      <td>english (fluently)</td>\n",
       "      <td>0</td>\n",
       "      <td>99</td>\n",
       "    </tr>\n",
       "    <tr>\n",
       "      <th>29806</th>\n",
       "      <td>33</td>\n",
       "      <td>average</td>\n",
       "      <td>mostly anything</td>\n",
       "      <td>1</td>\n",
       "      <td>1</td>\n",
       "      <td>5</td>\n",
       "      <td>i live and work in sf, and am a bay area nativ...</td>\n",
       "      <td>for work: i am a software qa engineer for a pr...</td>\n",
       "      <td>guitar. if you want to hear any of it:&lt;br /&gt;\\n...</td>\n",
       "      <td>i will shake your hand, and repeat your name. ...</td>\n",
       "      <td>...</td>\n",
       "      <td>1</td>\n",
       "      <td>0</td>\n",
       "      <td>2</td>\n",
       "      <td>1</td>\n",
       "      <td>0</td>\n",
       "      <td>taurus but it doesn&amp;rsquo;t matter</td>\n",
       "      <td>1</td>\n",
       "      <td>english (fluently), spanish (poorly)</td>\n",
       "      <td>0</td>\n",
       "      <td>99</td>\n",
       "    </tr>\n",
       "    <tr>\n",
       "      <th>29207</th>\n",
       "      <td>35</td>\n",
       "      <td>a little extra</td>\n",
       "      <td>mostly anything</td>\n",
       "      <td>1</td>\n",
       "      <td>1</td>\n",
       "      <td>5</td>\n",
       "      <td>a 5th generation californian. home-birthed in ...</td>\n",
       "      <td>professional actor, improvisor, writer, and ho...</td>\n",
       "      <td>pretending / making stuff up&lt;br /&gt;\\nmaking peo...</td>\n",
       "      <td>6 foot tall bear of a man with a beard&lt;br /&gt;\\n...</td>\n",
       "      <td>...</td>\n",
       "      <td>1</td>\n",
       "      <td>0</td>\n",
       "      <td>2</td>\n",
       "      <td>2</td>\n",
       "      <td>0</td>\n",
       "      <td>gemini and it&amp;rsquo;s fun to think about</td>\n",
       "      <td>1</td>\n",
       "      <td>english (fluently), spanish (poorly)</td>\n",
       "      <td>0</td>\n",
       "      <td>99</td>\n",
       "    </tr>\n",
       "  </tbody>\n",
       "</table>\n",
       "<p>5844 rows × 32 columns</p>\n",
       "</div>"
      ],
      "text/plain": [
       "      age       body_type               diet  drinks  drugs  education  \\\n",
       "43327  32  a little extra    mostly anything       2      0          5   \n",
       "53670  23         average    mostly anything       2      0          5   \n",
       "39377  29          skinny    mostly anything       2      0          4   \n",
       "9514   50  a little extra    mostly anything       2      0          5   \n",
       "53086  39             fit    mostly anything       2      0          5   \n",
       "...    ..             ...                ...     ...    ...        ...   \n",
       "37697  20             fit  mostly vegetarian       1      1          5   \n",
       "37689  22         average  mostly vegetarian       1      1          5   \n",
       "46069  21           curvy           anything       1      1          5   \n",
       "29806  33         average    mostly anything       1      1          5   \n",
       "29207  35  a little extra    mostly anything       1      1          5   \n",
       "\n",
       "                                                  essay0  \\\n",
       "43327  this is weird...i guess the one thing i can sa...   \n",
       "53670  a guy who has fun, doesn't take life too serio...   \n",
       "39377  im a transsexual looking for young white singl...   \n",
       "9514   self deprecating, fairly happy-go-lucky, quasi...   \n",
       "53086  dont know where to start, so i wont yet... jus...   \n",
       "...                                                  ...   \n",
       "37697  i was studying graphic and product design for ...   \n",
       "37689  i would describe myself as an intense but fun ...   \n",
       "46069                              still just wandering.   \n",
       "29806  i live and work in sf, and am a bay area nativ...   \n",
       "29207  a 5th generation californian. home-birthed in ...   \n",
       "\n",
       "                                                  essay1  \\\n",
       "43327  currently, trying very hard to move away from ...   \n",
       "53670  going to sfsu studying business management, an...   \n",
       "39377   n joying everyday...<br />\\nlife is too short...   \n",
       "9514   i wish i knew. what i want to do is make a dif...   \n",
       "53086  starting life in sf, where i got eight months ...   \n",
       "...                                                  ...   \n",
       "37697  working as a line/prep cook. studying physics,...   \n",
       "37689  i'm currently studying at grinnell college and...   \n",
       "46069  i left sfsu to go to ccsf, where i can take wh...   \n",
       "29806  for work: i am a software qa engineer for a pr...   \n",
       "29207  professional actor, improvisor, writer, and ho...   \n",
       "\n",
       "                                                  essay2  \\\n",
       "43327                   ...obviously not self promotion.   \n",
       "53670  cooking, relaxing, camping, smiling, drinking,...   \n",
       "39377                       hmm... my hands im an artist   \n",
       "9514   evading questions for which there is no really...   \n",
       "53086  i do like to do many things, including paintin...   \n",
       "...                                                  ...   \n",
       "37697  enjoying things, creating things, making music...   \n",
       "37689  programming in ruby, having long intellectual ...   \n",
       "46069  interrupting, arguing, staying up really, real...   \n",
       "29806  guitar. if you want to hear any of it:<br />\\n...   \n",
       "29207  pretending / making stuff up<br />\\nmaking peo...   \n",
       "\n",
       "                                                  essay3  ... offspring  \\\n",
       "43327  folks say i have a 'strong presence' after ini...  ...         1   \n",
       "53670              my big smile, especially if i'm drunk  ...         1   \n",
       "39377                                my eyes... n legs..  ...         0   \n",
       "9514   you tell me..... everyone is going to see some...  ...         0   \n",
       "53086                                       never asked.  ...         1   \n",
       "...                                                  ...  ...       ...   \n",
       "37697  how much of a smart ass i am, my eyes, imagina...  ...         2   \n",
       "37689         my glasses. and my offbeat sense of humor.  ...         1   \n",
       "46069                                    \"are you high?\"  ...         2   \n",
       "29806  i will shake your hand, and repeat your name. ...  ...         1   \n",
       "29207  6 foot tall bear of a man with a beard<br />\\n...  ...         1   \n",
       "\n",
       "      orientation pets religion sex  \\\n",
       "43327           0    2        1   1   \n",
       "53670           0    2        2   0   \n",
       "39377           0    2        3   1   \n",
       "9514            2    2        2   0   \n",
       "53086           0    2        1   0   \n",
       "...           ...  ...      ...  ..   \n",
       "37697           0    2        2   0   \n",
       "37689           0    2        2   0   \n",
       "46069           0    2        0   1   \n",
       "29806           0    2        1   0   \n",
       "29207           0    2        2   0   \n",
       "\n",
       "                                              sign smokes  \\\n",
       "43327     pisces and it&rsquo;s fun to think about      0   \n",
       "53670           pisces but it doesn&rsquo;t matter      0   \n",
       "39377      sagittarius but it doesn&rsquo;t matter      0   \n",
       "9514      cancer and it&rsquo;s fun to think about      0   \n",
       "53086      aries and it&rsquo;s fun to think about      0   \n",
       "...                                            ...    ...   \n",
       "37697                                        aries      1   \n",
       "37689      aries and it&rsquo;s fun to think about      1   \n",
       "46069  capricorn and it&rsquo;s fun to think about      1   \n",
       "29806           taurus but it doesn&rsquo;t matter      1   \n",
       "29207     gemini and it&rsquo;s fun to think about      1   \n",
       "\n",
       "                                                  speaks  status Cluster  \n",
       "43327  english (fluently), japanese (poorly), spanish...       0       0  \n",
       "53670                                            english       0       0  \n",
       "39377                                 english (fluently)       0       0  \n",
       "9514   english (fluently), latin (poorly), french (po...       0       0  \n",
       "53086                 english (okay), spanish (fluently)       0       0  \n",
       "...                                                  ...     ...     ...  \n",
       "37697   english (fluently), dutch (okay), spanish (okay)       0      99  \n",
       "37689  english (fluently), lisp (okay), hindi (fluent...       0      99  \n",
       "46069                                 english (fluently)       0      99  \n",
       "29806               english (fluently), spanish (poorly)       0      99  \n",
       "29207               english (fluently), spanish (poorly)       0      99  \n",
       "\n",
       "[5844 rows x 32 columns]"
      ]
     },
     "metadata": {},
     "output_type": "display_data"
    }
   ],
   "source": [
    "clustered_data = new_dff.copy()\n",
    "clustered_data['Cluster'] = identified_clusters\n",
    "#Viewing the data with clusters\n",
    "display(clustered_data.sort_values(by='Cluster'))"
   ]
  },
  {
   "cell_type": "code",
   "execution_count": 320,
   "metadata": {},
   "outputs": [],
   "source": [
    "clustered_data.to_csv(r'C:\\Users\\jenni\\OneDrive\\Desktop\\cluster13.csv', index = False)"
   ]
  }
 ],
 "metadata": {
  "kernelspec": {
   "display_name": "Python 3",
   "language": "python",
   "name": "python3"
  },
  "language_info": {
   "codemirror_mode": {
    "name": "ipython",
    "version": 3
   },
   "file_extension": ".py",
   "mimetype": "text/x-python",
   "name": "python",
   "nbconvert_exporter": "python",
   "pygments_lexer": "ipython3",
   "version": "3.8.5"
  }
 },
 "nbformat": 4,
 "nbformat_minor": 4
}
