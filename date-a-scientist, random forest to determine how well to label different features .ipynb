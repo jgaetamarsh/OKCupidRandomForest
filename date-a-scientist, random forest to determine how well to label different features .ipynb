{
 "cells": [
  {
   "cell_type": "code",
   "execution_count": 64,
   "metadata": {},
   "outputs": [],
   "source": [
    "import pandas as pd\n",
    "import numpy as np"
   ]
  },
  {
   "cell_type": "code",
   "execution_count": 65,
   "metadata": {},
   "outputs": [],
   "source": [
    "#Import OK Cupid Profiles\n",
    "df = pd.read_csv(\"profiles.csv\")"
   ]
  },
  {
   "cell_type": "code",
   "execution_count": 66,
   "metadata": {},
   "outputs": [
    {
     "name": "stdout",
     "output_type": "stream",
     "text": [
      "   age       body_type               diet    drinks      drugs  \\\n",
      "0   22  a little extra  strictly anything  socially      never   \n",
      "1   35         average       mostly other     often  sometimes   \n",
      "2   38            thin           anything  socially        NaN   \n",
      "3   23            thin         vegetarian  socially        NaN   \n",
      "4   29        athletic                NaN  socially      never   \n",
      "\n",
      "                           education  \\\n",
      "0      working on college/university   \n",
      "1              working on space camp   \n",
      "2     graduated from masters program   \n",
      "3      working on college/university   \n",
      "4  graduated from college/university   \n",
      "\n",
      "                                              essay0  \\\n",
      "0  about me:<br />\\n<br />\\ni would love to think...   \n",
      "1  i am a chef: this is what that means.<br />\\n1...   \n",
      "2  i'm not ashamed of much, but writing public te...   \n",
      "3          i work in a library and go to school. . .   \n",
      "4  hey how's it going? currently vague on the pro...   \n",
      "\n",
      "                                              essay1  \\\n",
      "0  currently working as an international agent fo...   \n",
      "1  dedicating everyday to being an unbelievable b...   \n",
      "2  i make nerdy software for musicians, artists, ...   \n",
      "3          reading things written by old dead people   \n",
      "4                         work work work work + play   \n",
      "\n",
      "                                              essay2  \\\n",
      "0  making people laugh.<br />\\nranting about a go...   \n",
      "1  being silly. having ridiculous amonts of fun w...   \n",
      "2  improvising in different contexts. alternating...   \n",
      "3  playing synthesizers and organizing books acco...   \n",
      "4  creating imagery to look at:<br />\\nhttp://bag...   \n",
      "\n",
      "                                              essay3  ...  \\\n",
      "0  the way i look. i am a six foot half asian, ha...  ...   \n",
      "1                                                NaN  ...   \n",
      "2  my large jaw and large glasses are the physica...  ...   \n",
      "3                  socially awkward but i do my best  ...   \n",
      "4            i smile a lot and my inquisitive nature  ...   \n",
      "\n",
      "                          location  \\\n",
      "0  south san francisco, california   \n",
      "1              oakland, california   \n",
      "2        san francisco, california   \n",
      "3             berkeley, california   \n",
      "4        san francisco, california   \n",
      "\n",
      "                                      offspring orientation  \\\n",
      "0  doesn&rsquo;t have kids, but might want them    straight   \n",
      "1  doesn&rsquo;t have kids, but might want them    straight   \n",
      "2                                           NaN    straight   \n",
      "3                       doesn&rsquo;t want kids    straight   \n",
      "4                                           NaN    straight   \n",
      "\n",
      "                        pets                                  religion sex  \\\n",
      "0  likes dogs and likes cats     agnosticism and very serious about it   m   \n",
      "1  likes dogs and likes cats  agnosticism but not too serious about it   m   \n",
      "2                   has cats                                       NaN   m   \n",
      "3                 likes cats                                       NaN   m   \n",
      "4  likes dogs and likes cats                                       NaN   m   \n",
      "\n",
      "                                 sign     smokes  \\\n",
      "0                              gemini  sometimes   \n",
      "1                              cancer         no   \n",
      "2  pisces but it doesn&rsquo;t matter         no   \n",
      "3                              pisces         no   \n",
      "4                            aquarius         no   \n",
      "\n",
      "                                              speaks     status  \n",
      "0                                            english     single  \n",
      "1  english (fluently), spanish (poorly), french (...     single  \n",
      "2                               english, french, c++  available  \n",
      "3                           english, german (poorly)     single  \n",
      "4                                            english     single  \n",
      "\n",
      "[5 rows x 31 columns]\n"
     ]
    }
   ],
   "source": [
    "#Look at Data\n",
    "print(df.head())"
   ]
  },
  {
   "cell_type": "code",
   "execution_count": 67,
   "metadata": {},
   "outputs": [],
   "source": [
    "#Drop NA lines\n",
    "new_df = df.dropna()"
   ]
  },
  {
   "cell_type": "code",
   "execution_count": 68,
   "metadata": {},
   "outputs": [
    {
     "name": "stdout",
     "output_type": "stream",
     "text": [
      "Index(['age', 'body_type', 'diet', 'drinks', 'drugs', 'education', 'essay0',\n",
      "       'essay1', 'essay2', 'essay3', 'essay4', 'essay5', 'essay6', 'essay7',\n",
      "       'essay8', 'essay9', 'ethnicity', 'height', 'income', 'job',\n",
      "       'last_online', 'location', 'offspring', 'orientation', 'pets',\n",
      "       'religion', 'sex', 'sign', 'smokes', 'speaks', 'status'],\n",
      "      dtype='object')\n",
      "59946\n"
     ]
    }
   ],
   "source": [
    "print(new_df.columns)\n",
    "print(len(df))\n"
   ]
  },
  {
   "cell_type": "code",
   "execution_count": 69,
   "metadata": {},
   "outputs": [
    {
     "name": "stdout",
     "output_type": "stream",
     "text": [
      "single            4093\n",
      "available          159\n",
      "seeing someone     135\n",
      "married             20\n",
      "Name: status, dtype: int64\n"
     ]
    }
   ],
   "source": [
    "#Look at status and other potential features\n",
    "print(new_df[\"status\"].value_counts())"
   ]
  },
  {
   "cell_type": "code",
   "execution_count": 70,
   "metadata": {},
   "outputs": [
    {
     "name": "stdout",
     "output_type": "stream",
     "text": [
      "m    2470\n",
      "f    1937\n",
      "Name: sex, dtype: int64\n"
     ]
    }
   ],
   "source": [
    "print(new_df[\"sex\"].value_counts())"
   ]
  },
  {
   "cell_type": "code",
   "execution_count": 71,
   "metadata": {},
   "outputs": [
    {
     "name": "stdout",
     "output_type": "stream",
     "text": [
      "never        3423\n",
      "sometimes     916\n",
      "often          68\n",
      "Name: drugs, dtype: int64\n"
     ]
    }
   ],
   "source": [
    "print(new_df[\"drugs\"].value_counts())"
   ]
  },
  {
   "cell_type": "code",
   "execution_count": 72,
   "metadata": {},
   "outputs": [
    {
     "name": "stdout",
     "output_type": "stream",
     "text": [
      "socially       2958\n",
      "rarely          581\n",
      "often           396\n",
      "not at all      386\n",
      "very often       52\n",
      "desperately      34\n",
      "Name: drinks, dtype: int64\n"
     ]
    }
   ],
   "source": [
    "print(new_df[\"drinks\"].value_counts())"
   ]
  },
  {
   "cell_type": "code",
   "execution_count": 73,
   "metadata": {},
   "outputs": [
    {
     "name": "stdout",
     "output_type": "stream",
     "text": [
      "graduated from college/university    1739\n",
      "graduated from masters program        699\n",
      "working on college/university         572\n",
      "graduated from two-year college       184\n",
      "graduated from high school            170\n",
      "working on two-year college           132\n",
      "working on masters program            128\n",
      "dropped out of college/university     120\n",
      "graduated from ph.d program           100\n",
      "graduated from law school              91\n",
      "dropped out of space camp              71\n",
      "graduated from space camp              64\n",
      "working on ph.d program                62\n",
      "working on space camp                  48\n",
      "college/university                     47\n",
      "graduated from med school              37\n",
      "dropped out of two-year college        21\n",
      "working on law school                  20\n",
      "dropped out of masters program         18\n",
      "working on med school                  16\n",
      "two-year college                       16\n",
      "dropped out of high school             15\n",
      "working on high school                 12\n",
      "dropped out of ph.d program            10\n",
      "space camp                              7\n",
      "high school                             5\n",
      "dropped out of law school               2\n",
      "masters program                         1\n",
      "Name: education, dtype: int64\n"
     ]
    }
   ],
   "source": [
    "print(new_df[\"education\"].value_counts())"
   ]
  },
  {
   "cell_type": "code",
   "execution_count": 74,
   "metadata": {},
   "outputs": [
    {
     "name": "stdout",
     "output_type": "stream",
     "text": [
      "likes dogs and likes cats          1726\n",
      "likes dogs                          591\n",
      "likes dogs and has cats             518\n",
      "has dogs                            359\n",
      "has dogs and likes cats             323\n",
      "likes dogs and dislikes cats        269\n",
      "has dogs and has cats               202\n",
      "has cats                            122\n",
      "likes cats                          104\n",
      "has dogs and dislikes cats           86\n",
      "dislikes dogs and likes cats         51\n",
      "dislikes dogs and dislikes cats      30\n",
      "dislikes dogs and has cats           12\n",
      "dislikes cats                        10\n",
      "dislikes dogs                         4\n",
      "Name: pets, dtype: int64\n"
     ]
    }
   ],
   "source": [
    "print(new_df[\"pets\"].value_counts())"
   ]
  },
  {
   "cell_type": "code",
   "execution_count": 75,
   "metadata": {},
   "outputs": [
    {
     "name": "stdout",
     "output_type": "stream",
     "text": [
      "-1          2983\n",
      " 20000       461\n",
      " 100000      167\n",
      " 40000       131\n",
      " 30000       129\n",
      " 80000       112\n",
      " 50000       109\n",
      " 60000        87\n",
      " 70000        79\n",
      " 150000       67\n",
      " 1000000      58\n",
      " 250000       16\n",
      " 500000        8\n",
      "Name: income, dtype: int64\n"
     ]
    }
   ],
   "source": [
    "print(new_df[\"income\"].value_counts())"
   ]
  },
  {
   "cell_type": "code",
   "execution_count": 76,
   "metadata": {},
   "outputs": [
    {
     "name": "stdout",
     "output_type": "stream",
     "text": [
      "agnosticism but not too serious about it      346\n",
      "other and laughing about it                   302\n",
      "agnosticism and laughing about it             295\n",
      "atheism and laughing about it                 272\n",
      "christianity but not too serious about it     267\n",
      "catholicism but not too serious about it      249\n",
      "other but not too serious about it            247\n",
      "other                                         231\n",
      "agnosticism                                   216\n",
      "atheism but not too serious about it          150\n",
      "atheism                                       145\n",
      "judaism but not too serious about it          143\n",
      "christianity                                  136\n",
      "christianity and somewhat serious about it    131\n",
      "other and somewhat serious about it           131\n",
      "atheism and somewhat serious about it         128\n",
      "catholicism and laughing about it              98\n",
      "atheism and very serious about it              86\n",
      "buddhism but not too serious about it          84\n",
      "agnosticism and somewhat serious about it      78\n",
      "other and very serious about it                76\n",
      "catholicism and somewhat serious about it      75\n",
      "christianity and very serious about it         71\n",
      "buddhism and somewhat serious about it         61\n",
      "judaism and laughing about it                  61\n",
      "buddhism and laughing about it                 60\n",
      "catholicism                                    53\n",
      "agnosticism and very serious about it          37\n",
      "christianity and laughing about it             32\n",
      "judaism and somewhat serious about it          30\n",
      "judaism                                        29\n",
      "buddhism                                       18\n",
      "catholicism and very serious about it          14\n",
      "hinduism and somewhat serious about it         10\n",
      "hinduism but not too serious about it           9\n",
      "buddhism and very serious about it              9\n",
      "islam but not too serious about it              5\n",
      "islam and somewhat serious about it             4\n",
      "hinduism                                        4\n",
      "hinduism and very serious about it              3\n",
      "judaism and very serious about it               3\n",
      "islam and very serious about it                 3\n",
      "hinduism and laughing about it                  3\n",
      "islam and laughing about it                     1\n",
      "islam                                           1\n",
      "Name: religion, dtype: int64\n"
     ]
    }
   ],
   "source": [
    "print(new_df[\"religion\"].value_counts())"
   ]
  },
  {
   "cell_type": "code",
   "execution_count": 77,
   "metadata": {},
   "outputs": [],
   "source": [
    "#Changed Text to Integers for Certain Columns\n",
    "new_dictionary = {\"status\": {\"single\":0, \"available\":0, \"seeing someone\":1, \"married\":2 }, \n",
    "                 \"drinks\": {\"socially\":1, \"rarely\":1, \"not at all\":0, \"often\":2, \"very often\":2, \"desperately\":2},\n",
    "                 \"drugs\": {\"never\":0, \"sometimes\":1, \"often\":2},\n",
    "                 \"orientation\": {\"straight\":0, \"bisexual\":1, \"gay\":2},\n",
    "                  \"sex\":{\"m\":0, \"f\":1},\n",
    "                  \"education\":{\"graduated from med school\":8,\"working on med school\":8, \"graduated from ph.d program\":8, \"working on ph.d program\":8, \"graduated from law school\":7,\"working on law school\":7,\"dropped out of ph.d program\":6,\"dropped out of law school\":6,\"space camp\":5, \"graduated from space camp\":5, \"working on space camp\":5, \"dropped out of space camp\":4,\"graduated from masters program\":6,\"masters program\":6,\"working on masters program\":6,\"dropped out of masters program\":5, \"graduated from college/university\":5,\"college/university\":5, \"graduated from two-year college\":4, \"working on college/university\":5,\"working on two-year college\":4, \"dropped out of two-year college\":3,\"two-year college\":4, \"dropped out of college/university\":3, \"graduated from high school\":2,\"high school\":2,\"working on high school\":1, \"dropped out of high school\":0},\n",
    "                  \"pets\":{\"likes dogs and likes cats\":2,\"likes dogs\":2,\"likes dogs and has cats\":3,\"has dogs\":3,\"has dogs and likes cats\":3,\"likes dogs and dislikes cats\":2,\"has dogs and has cats\":3,\"has cats\":2,\"likes cats\":1,\"has dogs and dislikes cats\":1,\"dislikes dogs and likes cats\":1,\"dislikes dogs and dislikes cats\":0,\"dislikes dogs and has cats\":1,\"dislikes cats\":0,\"dislikes dogs\":0},\n",
    "                  \"religion\":{\"agnosticism but not too serious about it\":1,\"other and laughing about it\":2,\"agnosticism and laughing about it\":1,\"atheism and laughing about it\":1,\"christianity but not too serious about it\":3,\"catholicism but not too serious about it\":3,\"other but not too serious about it\":3,\"other\":14,\"agnosticism\":1,\"atheism but not too serious about it\":1,\"atheism\":0,\"judaism but not too serious about it\":3,\"christianity\":4,\"other and somewhat serious about it\":14,\"christianity and somewhat serious about it\":4,\"atheism and somewhat serious about it\":0,\"catholicism and laughing about it\":2,\"atheism and very serious about it\":0,\"buddhism but not too serious about it\":2,\"agnosticism and somewhat serious about it\":0,\"other and very serious about it\":14,\"catholicism and somewhat serious about it\":8,\"christianity and very serious about it\":8,\"buddhism and somewhat serious about it\":12,\"judaism and laughing about it\":2,\"buddhism and laughing about it\":2,\"catholicism\":4,\"agnosticism and very serious about it\":0,\"christianity and laughing about it\":2,\"judaism and somewhat serious about it\":6,\"judaism\":6,\"buddhism\":12,\"catholicism and very serious about it\":8,\"hinduism and somewhat serious about it\":5,\"hinduism but not too serious about it\":2,\"buddhism and very serious about it\":13,\"islam but not too serious about it\":2,\"hinduism\":5,\"islam and somewhat serious about it\":7,\"judaism and very serious about it\":10,\"hinduism and very serious about it\":9,\"islam and very serious about it\":11,\"hinduism and laughing about it\":2,\"islam and laughing about it\":2,\"islam\":7}}   \n",
    "new_dff = new_df.replace(new_dictionary)\n"
   ]
  },
  {
   "cell_type": "code",
   "execution_count": 78,
   "metadata": {},
   "outputs": [
    {
     "name": "stdout",
     "output_type": "stream",
     "text": [
      "    age       body_type               diet  drinks  drugs  education  \\\n",
      "0    22  a little extra  strictly anything       1      0          5   \n",
      "19   33        athletic    mostly anything       1      0          6   \n",
      "22   30             fit    mostly anything       1      0          5   \n",
      "94   29             fit    mostly anything       1      1          5   \n",
      "98   31           curvy           anything       1      1          6   \n",
      "\n",
      "                                               essay0  \\\n",
      "0   about me:<br />\\n<br />\\ni would love to think...   \n",
      "19  i relocated to san francisco half a year ago. ...   \n",
      "22  i tend to think the same way a comedian does a...   \n",
      "94  my names josh, and i create art for a living. ...   \n",
      "98  one day i will mod r/hotchickswithspreadsheets...   \n",
      "\n",
      "                                               essay1  \\\n",
      "0   currently working as an international agent fo...   \n",
      "19  i left my comfort zone far behind in europe, a...   \n",
      "22  i'm a supply and demand manager for a sustaina...   \n",
      "94                                          living it   \n",
      "98  presently, holyshitwhatamidoinghere and the sp...   \n",
      "\n",
      "                                               essay2  \\\n",
      "0   making people laugh.<br />\\nranting about a go...   \n",
      "19  listening, connecting emotionally, analyzing t...   \n",
      "22  making predictions, planning anything (i'm pre...   \n",
      "94                                         everything   \n",
      "98  algebra, alliteration, big spoon and little sp...   \n",
      "\n",
      "                                               essay3  ...  \\\n",
      "0   the way i look. i am a six foot half asian, ha...  ...   \n",
      "19  cheerful, open, curious, direct, active, sport...  ...   \n",
      "22        that i'm smiling. pretty much at all times.  ...   \n",
      "94                        i honestly couldn't say....  ...   \n",
      "98  i look a lot like that chick you banged your f...  ...   \n",
      "\n",
      "                           location  \\\n",
      "0   south san francisco, california   \n",
      "19        san francisco, california   \n",
      "22        san francisco, california   \n",
      "94        san francisco, california   \n",
      "98        san francisco, california   \n",
      "\n",
      "                                       offspring orientation pets religion  \\\n",
      "0   doesn&rsquo;t have kids, but might want them           0    2        0   \n",
      "19                       doesn&rsquo;t have kids           0    2        3   \n",
      "22  doesn&rsquo;t have kids, but might want them           0    2        0   \n",
      "94                       doesn&rsquo;t want kids           0    2        0   \n",
      "98  doesn&rsquo;t have kids, but might want them           0    2        0   \n",
      "\n",
      "   sex                                      sign     smokes  \\\n",
      "0    0                                    gemini  sometimes   \n",
      "19   0  pisces and it&rsquo;s fun to think about         no   \n",
      "22   0   sagittarius but it doesn&rsquo;t matter         no   \n",
      "94   0                                     libra         no   \n",
      "98   1                                    pisces         no   \n",
      "\n",
      "                       speaks status  \n",
      "0                     english      0  \n",
      "19         english (fluently)      0  \n",
      "22  english, spanish (poorly)      0  \n",
      "94         english (fluently)      0  \n",
      "98         english (fluently)      0  \n",
      "\n",
      "[5 rows x 31 columns]\n"
     ]
    }
   ],
   "source": [
    "print(new_dff.head())"
   ]
  },
  {
   "cell_type": "code",
   "execution_count": 79,
   "metadata": {},
   "outputs": [
    {
     "data": {
      "text/html": [
       "<div>\n",
       "<style scoped>\n",
       "    .dataframe tbody tr th:only-of-type {\n",
       "        vertical-align: middle;\n",
       "    }\n",
       "\n",
       "    .dataframe tbody tr th {\n",
       "        vertical-align: top;\n",
       "    }\n",
       "\n",
       "    .dataframe thead th {\n",
       "        text-align: right;\n",
       "    }\n",
       "</style>\n",
       "<table border=\"1\" class=\"dataframe\">\n",
       "  <thead>\n",
       "    <tr style=\"text-align: right;\">\n",
       "      <th></th>\n",
       "      <th>age</th>\n",
       "      <th>drinks</th>\n",
       "      <th>drugs</th>\n",
       "      <th>education</th>\n",
       "      <th>height</th>\n",
       "      <th>income</th>\n",
       "      <th>orientation</th>\n",
       "      <th>pets</th>\n",
       "      <th>religion</th>\n",
       "      <th>sex</th>\n",
       "      <th>status</th>\n",
       "    </tr>\n",
       "  </thead>\n",
       "  <tbody>\n",
       "    <tr>\n",
       "      <th>age</th>\n",
       "      <td>1.000000</td>\n",
       "      <td>-0.097076</td>\n",
       "      <td>-0.185742</td>\n",
       "      <td>0.155052</td>\n",
       "      <td>-0.036197</td>\n",
       "      <td>-0.022141</td>\n",
       "      <td>-0.075100</td>\n",
       "      <td>0.079212</td>\n",
       "      <td>0.143312</td>\n",
       "      <td>0.068393</td>\n",
       "      <td>-0.053128</td>\n",
       "    </tr>\n",
       "    <tr>\n",
       "      <th>drinks</th>\n",
       "      <td>-0.097076</td>\n",
       "      <td>1.000000</td>\n",
       "      <td>0.251011</td>\n",
       "      <td>-0.007772</td>\n",
       "      <td>0.017571</td>\n",
       "      <td>0.063713</td>\n",
       "      <td>-0.013425</td>\n",
       "      <td>-0.016363</td>\n",
       "      <td>-0.107732</td>\n",
       "      <td>-0.011546</td>\n",
       "      <td>0.005155</td>\n",
       "    </tr>\n",
       "    <tr>\n",
       "      <th>drugs</th>\n",
       "      <td>-0.185742</td>\n",
       "      <td>0.251011</td>\n",
       "      <td>1.000000</td>\n",
       "      <td>-0.130634</td>\n",
       "      <td>0.084907</td>\n",
       "      <td>0.093680</td>\n",
       "      <td>0.054317</td>\n",
       "      <td>-0.015040</td>\n",
       "      <td>-0.069198</td>\n",
       "      <td>-0.078713</td>\n",
       "      <td>0.025426</td>\n",
       "    </tr>\n",
       "    <tr>\n",
       "      <th>education</th>\n",
       "      <td>0.155052</td>\n",
       "      <td>-0.007772</td>\n",
       "      <td>-0.130634</td>\n",
       "      <td>1.000000</td>\n",
       "      <td>-0.045846</td>\n",
       "      <td>-0.021982</td>\n",
       "      <td>-0.025445</td>\n",
       "      <td>-0.047003</td>\n",
       "      <td>0.010760</td>\n",
       "      <td>0.086295</td>\n",
       "      <td>-0.007734</td>\n",
       "    </tr>\n",
       "    <tr>\n",
       "      <th>height</th>\n",
       "      <td>-0.036197</td>\n",
       "      <td>0.017571</td>\n",
       "      <td>0.084907</td>\n",
       "      <td>-0.045846</td>\n",
       "      <td>1.000000</td>\n",
       "      <td>0.077560</td>\n",
       "      <td>-0.012090</td>\n",
       "      <td>-0.067694</td>\n",
       "      <td>-0.067960</td>\n",
       "      <td>-0.659509</td>\n",
       "      <td>-0.029228</td>\n",
       "    </tr>\n",
       "    <tr>\n",
       "      <th>income</th>\n",
       "      <td>-0.022141</td>\n",
       "      <td>0.063713</td>\n",
       "      <td>0.093680</td>\n",
       "      <td>-0.021982</td>\n",
       "      <td>0.077560</td>\n",
       "      <td>1.000000</td>\n",
       "      <td>-0.025924</td>\n",
       "      <td>-0.025563</td>\n",
       "      <td>0.005760</td>\n",
       "      <td>-0.097393</td>\n",
       "      <td>0.000791</td>\n",
       "    </tr>\n",
       "    <tr>\n",
       "      <th>orientation</th>\n",
       "      <td>-0.075100</td>\n",
       "      <td>-0.013425</td>\n",
       "      <td>0.054317</td>\n",
       "      <td>-0.025445</td>\n",
       "      <td>-0.012090</td>\n",
       "      <td>-0.025924</td>\n",
       "      <td>1.000000</td>\n",
       "      <td>-0.023016</td>\n",
       "      <td>0.030281</td>\n",
       "      <td>0.018184</td>\n",
       "      <td>0.046943</td>\n",
       "    </tr>\n",
       "    <tr>\n",
       "      <th>pets</th>\n",
       "      <td>0.079212</td>\n",
       "      <td>-0.016363</td>\n",
       "      <td>-0.015040</td>\n",
       "      <td>-0.047003</td>\n",
       "      <td>-0.067694</td>\n",
       "      <td>-0.025563</td>\n",
       "      <td>-0.023016</td>\n",
       "      <td>1.000000</td>\n",
       "      <td>0.024845</td>\n",
       "      <td>0.120549</td>\n",
       "      <td>0.032955</td>\n",
       "    </tr>\n",
       "    <tr>\n",
       "      <th>religion</th>\n",
       "      <td>0.143312</td>\n",
       "      <td>-0.107732</td>\n",
       "      <td>-0.069198</td>\n",
       "      <td>0.010760</td>\n",
       "      <td>-0.067960</td>\n",
       "      <td>0.005760</td>\n",
       "      <td>0.030281</td>\n",
       "      <td>0.024845</td>\n",
       "      <td>1.000000</td>\n",
       "      <td>0.117517</td>\n",
       "      <td>-0.037596</td>\n",
       "    </tr>\n",
       "    <tr>\n",
       "      <th>sex</th>\n",
       "      <td>0.068393</td>\n",
       "      <td>-0.011546</td>\n",
       "      <td>-0.078713</td>\n",
       "      <td>0.086295</td>\n",
       "      <td>-0.659509</td>\n",
       "      <td>-0.097393</td>\n",
       "      <td>0.018184</td>\n",
       "      <td>0.120549</td>\n",
       "      <td>0.117517</td>\n",
       "      <td>1.000000</td>\n",
       "      <td>0.033840</td>\n",
       "    </tr>\n",
       "    <tr>\n",
       "      <th>status</th>\n",
       "      <td>-0.053128</td>\n",
       "      <td>0.005155</td>\n",
       "      <td>0.025426</td>\n",
       "      <td>-0.007734</td>\n",
       "      <td>-0.029228</td>\n",
       "      <td>0.000791</td>\n",
       "      <td>0.046943</td>\n",
       "      <td>0.032955</td>\n",
       "      <td>-0.037596</td>\n",
       "      <td>0.033840</td>\n",
       "      <td>1.000000</td>\n",
       "    </tr>\n",
       "  </tbody>\n",
       "</table>\n",
       "</div>"
      ],
      "text/plain": [
       "                  age    drinks     drugs  education    height    income  \\\n",
       "age          1.000000 -0.097076 -0.185742   0.155052 -0.036197 -0.022141   \n",
       "drinks      -0.097076  1.000000  0.251011  -0.007772  0.017571  0.063713   \n",
       "drugs       -0.185742  0.251011  1.000000  -0.130634  0.084907  0.093680   \n",
       "education    0.155052 -0.007772 -0.130634   1.000000 -0.045846 -0.021982   \n",
       "height      -0.036197  0.017571  0.084907  -0.045846  1.000000  0.077560   \n",
       "income      -0.022141  0.063713  0.093680  -0.021982  0.077560  1.000000   \n",
       "orientation -0.075100 -0.013425  0.054317  -0.025445 -0.012090 -0.025924   \n",
       "pets         0.079212 -0.016363 -0.015040  -0.047003 -0.067694 -0.025563   \n",
       "religion     0.143312 -0.107732 -0.069198   0.010760 -0.067960  0.005760   \n",
       "sex          0.068393 -0.011546 -0.078713   0.086295 -0.659509 -0.097393   \n",
       "status      -0.053128  0.005155  0.025426  -0.007734 -0.029228  0.000791   \n",
       "\n",
       "             orientation      pets  religion       sex    status  \n",
       "age            -0.075100  0.079212  0.143312  0.068393 -0.053128  \n",
       "drinks         -0.013425 -0.016363 -0.107732 -0.011546  0.005155  \n",
       "drugs           0.054317 -0.015040 -0.069198 -0.078713  0.025426  \n",
       "education      -0.025445 -0.047003  0.010760  0.086295 -0.007734  \n",
       "height         -0.012090 -0.067694 -0.067960 -0.659509 -0.029228  \n",
       "income         -0.025924 -0.025563  0.005760 -0.097393  0.000791  \n",
       "orientation     1.000000 -0.023016  0.030281  0.018184  0.046943  \n",
       "pets           -0.023016  1.000000  0.024845  0.120549  0.032955  \n",
       "religion        0.030281  0.024845  1.000000  0.117517 -0.037596  \n",
       "sex             0.018184  0.120549  0.117517  1.000000  0.033840  \n",
       "status          0.046943  0.032955 -0.037596  0.033840  1.000000  "
      ]
     },
     "execution_count": 79,
     "metadata": {},
     "output_type": "execute_result"
    }
   ],
   "source": [
    "#nothings is particularly correlated although drugs/age slight negative correlation, education/age slight positive, religion/age slight positive, education/age slight positive\n",
    "new_dff.corr()"
   ]
  },
  {
   "cell_type": "code",
   "execution_count": 80,
   "metadata": {},
   "outputs": [
    {
     "name": "stdout",
     "output_type": "stream",
     "text": [
      "[-0.07100006 -0.26029306 -1.04611322 -0.04914322 -0.18276027 -0.51772983\n",
      " -0.36813204 -0.40264869 -0.86183687]\n"
     ]
    }
   ],
   "source": [
    "#without gender\n",
    "data = new_dff[[\"education\",\"income\",\"age\", \"drinks\", \"status\", \"drugs\", \"orientation\", \"pets\", \"religion\"]]\n",
    "from sklearn.preprocessing import scale\n",
    "scaled_data = scale(data, axis = 0)\n",
    "print(scaled_data[0])"
   ]
  },
  {
   "cell_type": "code",
   "execution_count": 81,
   "metadata": {},
   "outputs": [
    {
     "name": "stdout",
     "output_type": "stream",
     "text": [
      "0.6099773242630385\n"
     ]
    }
   ],
   "source": [
    "#labels gender 60% of the time\n",
    "from sklearn.model_selection import train_test_split\n",
    "from sklearn import tree\n",
    "from sklearn.ensemble import RandomForestClassifier\n",
    "import numpy as np\n",
    "labels = new_dff[[\"sex\"]]\n",
    "data = scaled_data\n",
    "training_data, validation_data, training_labels, validation_labels = train_test_split(data, labels, train_size = 0.8, test_size = 0.2, random_state = 1)\n",
    "forest = RandomForestClassifier(random_state = 1)\n",
    "forest.fit(training_data, np.ravel(training_labels,order='C'))\n",
    "print(forest.score(validation_data, validation_labels))"
   ]
  },
  {
   "cell_type": "code",
   "execution_count": 82,
   "metadata": {},
   "outputs": [
    {
     "name": "stdout",
     "output_type": "stream",
     "text": [
      "[-0.07100006 -0.88555662 -1.04611322 -0.04914322 -0.18276027 -0.51772983\n",
      " -0.36813204 -0.40264869 -0.86183687]\n"
     ]
    }
   ],
   "source": [
    "#without income\n",
    "data = new_dff[[\"education\",\"sex\",\"age\", \"drinks\", \"status\", \"drugs\", \"orientation\", \"pets\", \"religion\"]]\n",
    "from sklearn.preprocessing import scale\n",
    "scaled_data = scale(data, axis = 0)\n",
    "print(scaled_data[0])"
   ]
  },
  {
   "cell_type": "code",
   "execution_count": 83,
   "metadata": {},
   "outputs": [
    {
     "name": "stdout",
     "output_type": "stream",
     "text": [
      "0.5952380952380952\n"
     ]
    }
   ],
   "source": [
    "#labels income 59% of the time\n",
    "from sklearn.model_selection import train_test_split\n",
    "from sklearn import tree\n",
    "from sklearn.ensemble import RandomForestClassifier\n",
    "import numpy as np\n",
    "labels = new_dff[[\"income\"]]\n",
    "data = scaled_data\n",
    "training_data, validation_data, training_labels, validation_labels = train_test_split(data, labels, train_size = 0.8, test_size = 0.2, random_state = 1)\n",
    "forest = RandomForestClassifier(random_state = 1)\n",
    "forest.fit(training_data, np.ravel(training_labels,order='C'))\n",
    "print(forest.score(validation_data, validation_labels))"
   ]
  },
  {
   "cell_type": "code",
   "execution_count": 84,
   "metadata": {},
   "outputs": [
    {
     "name": "stdout",
     "output_type": "stream",
     "text": [
      "[-0.07100006 -0.88555662 -1.04611322 -0.26029306 -0.18276027 -0.51772983\n",
      " -0.36813204 -0.40264869 -0.86183687]\n"
     ]
    }
   ],
   "source": [
    "#without drinks\n",
    "data = new_dff[[\"education\",\"sex\",\"age\", \"income\", \"status\", \"drugs\", \"orientation\", \"pets\", \"religion\"]]\n",
    "from sklearn.preprocessing import scale\n",
    "scaled_data = scale(data, axis = 0)\n",
    "print(scaled_data[0])"
   ]
  },
  {
   "cell_type": "code",
   "execution_count": 85,
   "metadata": {},
   "outputs": [
    {
     "name": "stdout",
     "output_type": "stream",
     "text": [
      "0.7868480725623582\n"
     ]
    }
   ],
   "source": [
    "#labels level of drinking 78% of the time\n",
    "from sklearn.model_selection import train_test_split\n",
    "from sklearn import tree\n",
    "from sklearn.ensemble import RandomForestClassifier\n",
    "import numpy as np\n",
    "labels = new_dff[[\"drinks\"]]\n",
    "data = scaled_data\n",
    "training_data, validation_data, training_labels, validation_labels = train_test_split(data, labels, train_size = 0.8, test_size = 0.2, random_state = 1)\n",
    "forest = RandomForestClassifier(random_state = 1)\n",
    "forest.fit(training_data, np.ravel(training_labels,order='C'))\n",
    "print(forest.score(validation_data, validation_labels))"
   ]
  },
  {
   "cell_type": "code",
   "execution_count": 86,
   "metadata": {},
   "outputs": [
    {
     "name": "stdout",
     "output_type": "stream",
     "text": [
      "[-0.07100006 -0.88555662 -1.04611322 -0.26029306 -0.18276027 -0.04914322\n",
      " -0.36813204 -0.40264869 -0.86183687]\n"
     ]
    }
   ],
   "source": [
    "#without drugs\n",
    "data = new_dff[[\"education\",\"sex\",\"age\", \"income\", \"status\", \"drinks\", \"orientation\", \"pets\", \"religion\"]]\n",
    "from sklearn.preprocessing import scale\n",
    "scaled_data = scale(data, axis = 0)\n",
    "print(scaled_data[0])"
   ]
  },
  {
   "cell_type": "code",
   "execution_count": 87,
   "metadata": {},
   "outputs": [
    {
     "name": "stdout",
     "output_type": "stream",
     "text": [
      "0.7596371882086168\n"
     ]
    }
   ],
   "source": [
    "#labels level of drug use %76 of the time\n",
    "from sklearn.model_selection import train_test_split\n",
    "from sklearn import tree\n",
    "from sklearn.ensemble import RandomForestClassifier\n",
    "import numpy as np\n",
    "labels = new_dff[[\"drugs\"]]\n",
    "data = scaled_data\n",
    "training_data, validation_data, training_labels, validation_labels = train_test_split(data, labels, train_size = 0.8, test_size = 0.2, random_state = 1)\n",
    "forest = RandomForestClassifier(random_state = 1)\n",
    "forest.fit(training_data, np.ravel(training_labels,order='C'))\n",
    "print(forest.score(validation_data, validation_labels))"
   ]
  },
  {
   "cell_type": "code",
   "execution_count": 88,
   "metadata": {},
   "outputs": [
    {
     "name": "stdout",
     "output_type": "stream",
     "text": [
      "[-0.07100006 -0.88555662 -1.04611322 -0.26029306 -0.51772983 -0.04914322\n",
      " -0.36813204 -0.40264869 -0.86183687]\n"
     ]
    }
   ],
   "source": [
    "#without relationship status\n",
    "data = new_dff[[\"education\",\"sex\",\"age\", \"income\", \"drugs\", \"drinks\", \"orientation\", \"pets\", \"religion\"]]\n",
    "from sklearn.preprocessing import scale\n",
    "scaled_data = scale(data, axis = 0)\n",
    "print(scaled_data[0])"
   ]
  },
  {
   "cell_type": "code",
   "execution_count": 89,
   "metadata": {},
   "outputs": [
    {
     "name": "stdout",
     "output_type": "stream",
     "text": [
      "0.9580498866213152\n"
     ]
    }
   ],
   "source": [
    "#labels relationship status 96% of the time, but they are mostly single\n",
    "from sklearn.model_selection import train_test_split\n",
    "from sklearn import tree\n",
    "from sklearn.ensemble import RandomForestClassifier\n",
    "import numpy as np\n",
    "labels = new_dff[[\"status\"]]\n",
    "data = scaled_data\n",
    "training_data, validation_data, training_labels, validation_labels = train_test_split(data, labels, train_size = 0.8, test_size = 0.2, random_state = 1)\n",
    "forest = RandomForestClassifier(random_state = 1)\n",
    "forest.fit(training_data, np.ravel(training_labels,order='C'))\n",
    "print(forest.score(validation_data, validation_labels))"
   ]
  }
 ],
 "metadata": {
  "kernelspec": {
   "display_name": "Python 3",
   "language": "python",
   "name": "python3"
  },
  "language_info": {
   "codemirror_mode": {
    "name": "ipython",
    "version": 3
   },
   "file_extension": ".py",
   "mimetype": "text/x-python",
   "name": "python",
   "nbconvert_exporter": "python",
   "pygments_lexer": "ipython3",
   "version": "3.8.5"
  }
 },
 "nbformat": 4,
 "nbformat_minor": 4
}
